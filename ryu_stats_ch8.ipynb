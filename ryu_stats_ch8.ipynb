{
 "cells": [
  {
   "cell_type": "code",
   "execution_count": 1,
   "metadata": {},
   "outputs": [
    {
     "name": "stdout",
     "output_type": "stream",
     "text": [
      "Requirement already satisfied: seaborn in c:\\python310\\lib\\site-packages (0.11.2)\n",
      "Requirement already satisfied: pandas>=0.23 in c:\\python310\\lib\\site-packages (from seaborn) (1.4.3)\n",
      "Requirement already satisfied: numpy>=1.15 in c:\\python310\\lib\\site-packages (from seaborn) (1.23.1)\n",
      "Requirement already satisfied: matplotlib>=2.2 in c:\\python310\\lib\\site-packages (from seaborn) (3.5.2)\n",
      "Requirement already satisfied: scipy>=1.0 in c:\\python310\\lib\\site-packages (from seaborn) (1.8.1)\n",
      "Requirement already satisfied: python-dateutil>=2.7 in c:\\python310\\lib\\site-packages (from matplotlib>=2.2->seaborn) (2.8.2)\n",
      "Requirement already satisfied: cycler>=0.10 in c:\\python310\\lib\\site-packages (from matplotlib>=2.2->seaborn) (0.11.0)\n",
      "Requirement already satisfied: fonttools>=4.22.0 in c:\\python310\\lib\\site-packages (from matplotlib>=2.2->seaborn) (4.34.4)\n",
      "Requirement already satisfied: kiwisolver>=1.0.1 in c:\\python310\\lib\\site-packages (from matplotlib>=2.2->seaborn) (1.4.4)\n",
      "Requirement already satisfied: pillow>=6.2.0 in c:\\python310\\lib\\site-packages (from matplotlib>=2.2->seaborn) (9.2.0)\n",
      "Requirement already satisfied: packaging>=20.0 in c:\\python310\\lib\\site-packages (from matplotlib>=2.2->seaborn) (21.3)\n",
      "Requirement already satisfied: pyparsing>=2.2.1 in c:\\python310\\lib\\site-packages (from matplotlib>=2.2->seaborn) (3.0.9)\n",
      "Requirement already satisfied: pytz>=2020.1 in c:\\python310\\lib\\site-packages (from pandas>=0.23->seaborn) (2022.1)\n",
      "Requirement already satisfied: six>=1.5 in c:\\python310\\lib\\site-packages (from python-dateutil>=2.7->matplotlib>=2.2->seaborn) (1.16.0)\n",
      "Note: you may need to restart the kernel to use updated packages.\n",
      "Requirement already satisfied: pycountry_convert in c:\\python310\\lib\\site-packages (0.7.2)\n",
      "Requirement already satisfied: wheel>=0.30.0 in c:\\python310\\lib\\site-packages (from pycountry_convert) (0.37.1)\n",
      "Requirement already satisfied: pycountry>=16.11.27.1 in c:\\python310\\lib\\site-packages (from pycountry_convert) (22.3.5)\n",
      "Requirement already satisfied: pprintpp>=0.3.0 in c:\\python310\\lib\\site-packages (from pycountry_convert) (0.4.0)\n",
      "Requirement already satisfied: pytest>=3.4.0 in c:\\python310\\lib\\site-packages (from pycountry_convert) (7.1.2)\n",
      "Requirement already satisfied: pytest-cov>=2.5.1 in c:\\python310\\lib\\site-packages (from pycountry_convert) (3.0.0)\n",
      "Requirement already satisfied: pytest-mock>=1.6.3 in c:\\python310\\lib\\site-packages (from pycountry_convert) (3.8.2)\n",
      "Requirement already satisfied: repoze.lru>=0.7 in c:\\python310\\lib\\site-packages (from pycountry_convert) (0.7)\n",
      "Requirement already satisfied: setuptools in c:\\python310\\lib\\site-packages (from pycountry>=16.11.27.1->pycountry_convert) (58.1.0)\n",
      "Requirement already satisfied: pluggy<2.0,>=0.12 in c:\\python310\\lib\\site-packages (from pytest>=3.4.0->pycountry_convert) (1.0.0)\n",
      "Requirement already satisfied: iniconfig in c:\\python310\\lib\\site-packages (from pytest>=3.4.0->pycountry_convert) (1.1.1)\n",
      "Requirement already satisfied: attrs>=19.2.0 in c:\\python310\\lib\\site-packages (from pytest>=3.4.0->pycountry_convert) (22.1.0)\n",
      "Requirement already satisfied: colorama in c:\\python310\\lib\\site-packages (from pytest>=3.4.0->pycountry_convert) (0.4.5)\n",
      "Requirement already satisfied: py>=1.8.2 in c:\\python310\\lib\\site-packages (from pytest>=3.4.0->pycountry_convert) (1.11.0)\n",
      "Requirement already satisfied: atomicwrites>=1.0 in c:\\python310\\lib\\site-packages (from pytest>=3.4.0->pycountry_convert) (1.4.1)\n",
      "Requirement already satisfied: packaging in c:\\python310\\lib\\site-packages (from pytest>=3.4.0->pycountry_convert) (21.3)\n",
      "Requirement already satisfied: tomli>=1.0.0 in c:\\python310\\lib\\site-packages (from pytest>=3.4.0->pycountry_convert) (2.0.1)\n",
      "Requirement already satisfied: coverage[toml]>=5.2.1 in c:\\python310\\lib\\site-packages (from pytest-cov>=2.5.1->pycountry_convert) (6.4.2)\n",
      "Requirement already satisfied: pyparsing!=3.0.5,>=2.0.2 in c:\\python310\\lib\\site-packages (from packaging->pytest>=3.4.0->pycountry_convert) (3.0.9)\n",
      "Note: you may need to restart the kernel to use updated packages.\n"
     ]
    }
   ],
   "source": [
    "import numpy as np\n",
    "import pandas as pd\n",
    "import matplotlib.pyplot as plt\n",
    "%pip install seaborn\n",
    "import seaborn as sns\n",
    "from sklearn.linear_model import LinearRegression\n",
    "sns.set_style('dark')\n",
    "%pip install pycountry_convert\n",
    "import pycountry_convert as pc"
   ]
  },
  {
   "cell_type": "code",
   "execution_count": 2,
   "metadata": {},
   "outputs": [],
   "source": [
    "# from https://stackoverflow.com/questions/55910004/get-continent-name-from-country-using-pycountry\n",
    "\n",
    "def country_to_continent(row):\n",
    "    country_name=row['Country']\n",
    "\n",
    "    Europe_list=['Euro area','Britain']\n",
    "    if country_name in Europe_list:\n",
    "        return 'Europe'\n",
    "    country_alpha2 = pc.country_name_to_country_alpha2(country_name)\n",
    "    country_continent_code = pc.country_alpha2_to_continent_code(country_alpha2)\n",
    "    country_continent_name = pc.convert_continent_code_to_continent_name(country_continent_code)\n",
    "    \n",
    "    return country_continent_name"
   ]
  },
  {
   "cell_type": "code",
   "execution_count": 3,
   "metadata": {},
   "outputs": [
    {
     "name": "stdout",
     "output_type": "stream",
     "text": [
      "Requirement already satisfied: xlrd in c:\\python310\\lib\\site-packages (2.0.1)\n",
      "Note: you may need to restart the kernel to use updated packages.\n"
     ]
    },
    {
     "data": {
      "text/html": [
       "<div>\n",
       "<style scoped>\n",
       "    .dataframe tbody tr th:only-of-type {\n",
       "        vertical-align: middle;\n",
       "    }\n",
       "\n",
       "    .dataframe tbody tr th {\n",
       "        vertical-align: top;\n",
       "    }\n",
       "\n",
       "    .dataframe thead th {\n",
       "        text-align: right;\n",
       "    }\n",
       "</style>\n",
       "<table border=\"1\" class=\"dataframe\">\n",
       "  <thead>\n",
       "    <tr style=\"text-align: right;\">\n",
       "      <th></th>\n",
       "      <th>Country</th>\n",
       "      <th>iso_a3</th>\n",
       "      <th>currency_code</th>\n",
       "      <th>local_price</th>\n",
       "      <th>dollar_ex</th>\n",
       "      <th>dollar_price</th>\n",
       "      <th>dollar_ppp</th>\n",
       "      <th>GDP_bigmac</th>\n",
       "      <th>dollar_valuation</th>\n",
       "      <th>euro_valuation</th>\n",
       "      <th>sterling_valuation</th>\n",
       "      <th>yen_valuation</th>\n",
       "      <th>yuan_valuation</th>\n",
       "      <th>dollar_adj_valuation</th>\n",
       "      <th>euro_adj_valuation</th>\n",
       "      <th>sterling_adj_valuation</th>\n",
       "      <th>yen_adj_valuation</th>\n",
       "      <th>yuan_adj_valuation</th>\n",
       "    </tr>\n",
       "  </thead>\n",
       "  <tbody>\n",
       "    <tr>\n",
       "      <th>0</th>\n",
       "      <td>Switzerland</td>\n",
       "      <td>CHE</td>\n",
       "      <td>CHF</td>\n",
       "      <td>6.50</td>\n",
       "      <td>0.96845</td>\n",
       "      <td>6.711756</td>\n",
       "      <td>1.262136</td>\n",
       "      <td>67857.662938</td>\n",
       "      <td>30.325</td>\n",
       "      <td>40.853</td>\n",
       "      <td>51.165</td>\n",
       "      <td>137.261</td>\n",
       "      <td>88.694</td>\n",
       "      <td>31.013</td>\n",
       "      <td>25.768</td>\n",
       "      <td>39.572</td>\n",
       "      <td>127.382</td>\n",
       "      <td>51.915</td>\n",
       "    </tr>\n",
       "    <tr>\n",
       "      <th>1</th>\n",
       "      <td>Norway</td>\n",
       "      <td>NOR</td>\n",
       "      <td>NOK</td>\n",
       "      <td>62.00</td>\n",
       "      <td>9.89765</td>\n",
       "      <td>6.264113</td>\n",
       "      <td>12.038835</td>\n",
       "      <td>63567.854704</td>\n",
       "      <td>21.633</td>\n",
       "      <td>31.459</td>\n",
       "      <td>41.083</td>\n",
       "      <td>121.436</td>\n",
       "      <td>76.109</td>\n",
       "      <td>24.323</td>\n",
       "      <td>19.346</td>\n",
       "      <td>32.445</td>\n",
       "      <td>115.772</td>\n",
       "      <td>44.158</td>\n",
       "    </tr>\n",
       "    <tr>\n",
       "      <th>2</th>\n",
       "      <td>Uruguay</td>\n",
       "      <td>URY</td>\n",
       "      <td>UYU</td>\n",
       "      <td>255.00</td>\n",
       "      <td>41.91000</td>\n",
       "      <td>6.084467</td>\n",
       "      <td>49.514563</td>\n",
       "      <td>14726.863618</td>\n",
       "      <td>18.145</td>\n",
       "      <td>27.689</td>\n",
       "      <td>37.037</td>\n",
       "      <td>115.086</td>\n",
       "      <td>71.058</td>\n",
       "      <td>49.213</td>\n",
       "      <td>43.239</td>\n",
       "      <td>58.961</td>\n",
       "      <td>158.970</td>\n",
       "      <td>73.019</td>\n",
       "    </tr>\n",
       "    <tr>\n",
       "      <th>3</th>\n",
       "      <td>Sweden</td>\n",
       "      <td>SWE</td>\n",
       "      <td>SEK</td>\n",
       "      <td>57.00</td>\n",
       "      <td>10.19785</td>\n",
       "      <td>5.589413</td>\n",
       "      <td>11.067961</td>\n",
       "      <td>46516.137374</td>\n",
       "      <td>8.532</td>\n",
       "      <td>17.300</td>\n",
       "      <td>25.888</td>\n",
       "      <td>97.586</td>\n",
       "      <td>57.141</td>\n",
       "      <td>18.845</td>\n",
       "      <td>14.087</td>\n",
       "      <td>26.609</td>\n",
       "      <td>106.264</td>\n",
       "      <td>37.806</td>\n",
       "    </tr>\n",
       "    <tr>\n",
       "      <th>4</th>\n",
       "      <td>Canada</td>\n",
       "      <td>CAN</td>\n",
       "      <td>CAD</td>\n",
       "      <td>6.77</td>\n",
       "      <td>1.28915</td>\n",
       "      <td>5.251522</td>\n",
       "      <td>1.314563</td>\n",
       "      <td>49674.334129</td>\n",
       "      <td>1.971</td>\n",
       "      <td>10.209</td>\n",
       "      <td>18.277</td>\n",
       "      <td>85.641</td>\n",
       "      <td>47.641</td>\n",
       "      <td>10.205</td>\n",
       "      <td>5.793</td>\n",
       "      <td>17.404</td>\n",
       "      <td>91.268</td>\n",
       "      <td>27.787</td>\n",
       "    </tr>\n",
       "  </tbody>\n",
       "</table>\n",
       "</div>"
      ],
      "text/plain": [
       "       Country iso_a3 currency_code  local_price  dollar_ex  dollar_price  \\\n",
       "0  Switzerland    CHE           CHF         6.50    0.96845      6.711756   \n",
       "1       Norway    NOR           NOK        62.00    9.89765      6.264113   \n",
       "2      Uruguay    URY           UYU       255.00   41.91000      6.084467   \n",
       "3       Sweden    SWE           SEK        57.00   10.19785      5.589413   \n",
       "4       Canada    CAN           CAD         6.77    1.28915      5.251522   \n",
       "\n",
       "   dollar_ppp    GDP_bigmac  dollar_valuation  euro_valuation  \\\n",
       "0    1.262136  67857.662938            30.325          40.853   \n",
       "1   12.038835  63567.854704            21.633          31.459   \n",
       "2   49.514563  14726.863618            18.145          27.689   \n",
       "3   11.067961  46516.137374             8.532          17.300   \n",
       "4    1.314563  49674.334129             1.971          10.209   \n",
       "\n",
       "   sterling_valuation  yen_valuation  yuan_valuation  dollar_adj_valuation  \\\n",
       "0              51.165        137.261          88.694                31.013   \n",
       "1              41.083        121.436          76.109                24.323   \n",
       "2              37.037        115.086          71.058                49.213   \n",
       "3              25.888         97.586          57.141                18.845   \n",
       "4              18.277         85.641          47.641                10.205   \n",
       "\n",
       "   euro_adj_valuation  sterling_adj_valuation  yen_adj_valuation  \\\n",
       "0              25.768                  39.572            127.382   \n",
       "1              19.346                  32.445            115.772   \n",
       "2              43.239                  58.961            158.970   \n",
       "3              14.087                  26.609            106.264   \n",
       "4               5.793                  17.404             91.268   \n",
       "\n",
       "   yuan_adj_valuation  \n",
       "0              51.915  \n",
       "1              44.158  \n",
       "2              73.019  \n",
       "3              37.806  \n",
       "4              27.787  "
      ]
     },
     "execution_count": 3,
     "metadata": {},
     "output_type": "execute_result"
    }
   ],
   "source": [
    "%pip install xlrd\n",
    "big_mac_df=pd.read_excel('data/big-mac-2022-07-01.xls',sheet_name=0)\n",
    "big_mac_df.head()"
   ]
  },
  {
   "cell_type": "code",
   "execution_count": 4,
   "metadata": {},
   "outputs": [
    {
     "data": {
      "text/plain": [
       "array(['Switzerland', 'Norway', 'Uruguay', 'Sweden', 'Canada',\n",
       "       'United States', 'Lebanon', 'Israel', 'United Arab Emirates',\n",
       "       'Euro area', 'Australia', 'Argentina', 'Saudi Arabia', 'Britain',\n",
       "       'New Zealand', 'Brazil', 'Bahrain', 'Singapore', 'Kuwait',\n",
       "       'Czech Republic', 'Costa Rica', 'Nicaragua', 'Sri Lanka', 'Oman',\n",
       "       'Croatia', 'Chile', 'Honduras', 'Poland', 'Peru', 'Qatar', 'China',\n",
       "       'South Korea', 'Thailand', 'Colombia', 'Mexico', 'Guatemala',\n",
       "       'Jordan', 'Pakistan', 'Moldova', 'Vietnam', 'Japan', 'Azerbaijan',\n",
       "       'Philippines', 'Turkey', 'Hong Kong', 'Hungary', 'Taiwan',\n",
       "       'Malaysia', 'Egypt', 'India', 'South Africa', 'Indonesia',\n",
       "       'Romania', 'Venezuela'], dtype=object)"
      ]
     },
     "execution_count": 4,
     "metadata": {},
     "output_type": "execute_result"
    }
   ],
   "source": [
    "big_mac_df.Country.unique()"
   ]
  },
  {
   "cell_type": "code",
   "execution_count": 5,
   "metadata": {},
   "outputs": [
    {
     "data": {
      "text/plain": [
       "Index(['Country', 'iso_a3', 'currency_code', 'local_price', 'dollar_ex',\n",
       "       'dollar_price', 'dollar_ppp', 'GDP_bigmac', 'dollar_valuation',\n",
       "       'euro_valuation', 'sterling_valuation', 'yen_valuation',\n",
       "       'yuan_valuation', 'dollar_adj_valuation', 'euro_adj_valuation',\n",
       "       'sterling_adj_valuation', 'yen_adj_valuation', 'yuan_adj_valuation'],\n",
       "      dtype='object')"
      ]
     },
     "execution_count": 5,
     "metadata": {},
     "output_type": "execute_result"
    }
   ],
   "source": [
    "big_mac_df.columns"
   ]
  },
  {
   "cell_type": "code",
   "execution_count": 6,
   "metadata": {},
   "outputs": [],
   "source": [
    "xrate_index_df=big_mac_df[['Country','dollar_ex','dollar_ppp']]"
   ]
  },
  {
   "cell_type": "code",
   "execution_count": 30,
   "metadata": {},
   "outputs": [
    {
     "name": "stderr",
     "output_type": "stream",
     "text": [
      "c:\\Python310\\lib\\site-packages\\seaborn\\_decorators.py:36: FutureWarning: Pass the following variables as keyword args: x, y. From version 0.12, the only valid positional argument will be `data`, and passing other arguments without an explicit keyword will result in an error or misinterpretation.\n",
      "  warnings.warn(\n"
     ]
    },
    {
     "data": {
      "text/plain": [
       "Text(0.5, 1.0, 'The Big Mac Index and Currency Exchange Rate')"
      ]
     },
     "execution_count": 30,
     "metadata": {},
     "output_type": "execute_result"
    },
    {
     "data": {
      "image/png": "[encoded data removed]",
      "text/plain": [
       "<Figure size 936x576 with 1 Axes>"
      ]
     },
     "metadata": {
      "needs_background": "light"
     },
     "output_type": "display_data"
    }
   ],
   "source": [
    "_,ax=plt.subplots(1,1,figsize=(13,8))\n",
    "sns.regplot(np.log(xrate_index_df['dollar_ppp']),np.log(xrate_index_df['dollar_ex']),data=xrate_index_df,ax=ax)\n",
    "ax.set_xlabel('dollar purchasing power parity (log scale)',fontsize=13)\n",
    "ax.set_ylabel('USD / local currency (log scale)',fontsize=13)\n",
    "ax.set_title('The Big Mac Index and Currency Exchange Rate',fontsize=20,fontweight='bold',pad=30)"
   ]
  },
  {
   "cell_type": "markdown",
   "metadata": {},
   "source": [
    "## variance by continent"
   ]
  },
  {
   "cell_type": "code",
   "execution_count": 20,
   "metadata": {},
   "outputs": [
    {
     "name": "stderr",
     "output_type": "stream",
     "text": [
      "C:\\Users\\Administrator\\AppData\\Local\\Temp\\ipykernel_18196\\182027112.py:1: SettingWithCopyWarning: \n",
      "A value is trying to be set on a copy of a slice from a DataFrame.\n",
      "Try using .loc[row_indexer,col_indexer] = value instead\n",
      "\n",
      "See the caveats in the documentation: https://pandas.pydata.org/pandas-docs/stable/user_guide/indexing.html#returning-a-view-versus-a-copy\n",
      "  xrate_index_df['Continent']=xrate_index_df.apply(country_to_continent,axis=1)\n"
     ]
    },
    {
     "data": {
      "text/html": [
       "<div>\n",
       "<style scoped>\n",
       "    .dataframe tbody tr th:only-of-type {\n",
       "        vertical-align: middle;\n",
       "    }\n",
       "\n",
       "    .dataframe tbody tr th {\n",
       "        vertical-align: top;\n",
       "    }\n",
       "\n",
       "    .dataframe thead th {\n",
       "        text-align: right;\n",
       "    }\n",
       "</style>\n",
       "<table border=\"1\" class=\"dataframe\">\n",
       "  <thead>\n",
       "    <tr style=\"text-align: right;\">\n",
       "      <th></th>\n",
       "      <th>Country</th>\n",
       "      <th>dollar_ex</th>\n",
       "      <th>dollar_ppp</th>\n",
       "      <th>Continent</th>\n",
       "    </tr>\n",
       "  </thead>\n",
       "  <tbody>\n",
       "    <tr>\n",
       "      <th>0</th>\n",
       "      <td>Switzerland</td>\n",
       "      <td>0.96845</td>\n",
       "      <td>1.262136</td>\n",
       "      <td>Europe</td>\n",
       "    </tr>\n",
       "    <tr>\n",
       "      <th>1</th>\n",
       "      <td>Norway</td>\n",
       "      <td>9.89765</td>\n",
       "      <td>12.038835</td>\n",
       "      <td>Europe</td>\n",
       "    </tr>\n",
       "    <tr>\n",
       "      <th>2</th>\n",
       "      <td>Uruguay</td>\n",
       "      <td>41.91000</td>\n",
       "      <td>49.514563</td>\n",
       "      <td>South America</td>\n",
       "    </tr>\n",
       "    <tr>\n",
       "      <th>3</th>\n",
       "      <td>Sweden</td>\n",
       "      <td>10.19785</td>\n",
       "      <td>11.067961</td>\n",
       "      <td>Europe</td>\n",
       "    </tr>\n",
       "    <tr>\n",
       "      <th>4</th>\n",
       "      <td>Canada</td>\n",
       "      <td>1.28915</td>\n",
       "      <td>1.314563</td>\n",
       "      <td>North America</td>\n",
       "    </tr>\n",
       "  </tbody>\n",
       "</table>\n",
       "</div>"
      ],
      "text/plain": [
       "       Country  dollar_ex  dollar_ppp      Continent\n",
       "0  Switzerland    0.96845    1.262136         Europe\n",
       "1       Norway    9.89765   12.038835         Europe\n",
       "2      Uruguay   41.91000   49.514563  South America\n",
       "3       Sweden   10.19785   11.067961         Europe\n",
       "4       Canada    1.28915    1.314563  North America"
      ]
     },
     "execution_count": 20,
     "metadata": {},
     "output_type": "execute_result"
    }
   ],
   "source": [
    "xrate_index_df['Continent']=xrate_index_df.apply(country_to_continent,axis=1)\n",
    "xrate_index_df.head()"
   ]
  },
  {
   "cell_type": "code",
   "execution_count": 23,
   "metadata": {},
   "outputs": [
    {
     "data": {
      "text/plain": [
       "Continent\n",
       "Africa              0.837544\n",
       "Asia             5684.890793\n",
       "Europe             58.585408\n",
       "North America     190.609936\n",
       "Oceania             0.054921\n",
       "South America    1071.145688\n",
       "Name: dollar_ppp, dtype: float64"
      ]
     },
     "execution_count": 23,
     "metadata": {},
     "output_type": "execute_result"
    }
   ],
   "source": [
    "xrate_index_df.groupby('Continent')['dollar_ppp'].std()"
   ]
  },
  {
   "cell_type": "markdown",
   "metadata": {},
   "source": [
    "## Hue by continent"
   ]
  },
  {
   "cell_type": "code",
   "execution_count": 13,
   "metadata": {},
   "outputs": [
    {
     "name": "stderr",
     "output_type": "stream",
     "text": [
      "c:\\Python310\\lib\\site-packages\\seaborn\\_decorators.py:36: FutureWarning: Pass the following variables as keyword args: x, y. From version 0.12, the only valid positional argument will be `data`, and passing other arguments without an explicit keyword will result in an error or misinterpretation.\n",
      "  warnings.warn(\n"
     ]
    },
    {
     "data": {
      "text/plain": [
       "Text(0.5, 1.0, 'The Big Mac Index and Currency Exchange Rate')"
      ]
     },
     "execution_count": 13,
     "metadata": {},
     "output_type": "execute_result"
    },
    {
     "data": {
      "image/png": "[encoded data removed]",
      "text/plain": [
       "<Figure size 936x576 with 1 Axes>"
      ]
     },
     "metadata": {
      "needs_background": "light"
     },
     "output_type": "display_data"
    }
   ],
   "source": [
    "_,ax=plt.subplots(1,1,figsize=(13,8))\n",
    "sns.scatterplot(np.log(xrate_index_df['dollar_ppp']),np.log(xrate_index_df['dollar_ex']),ax=ax,hue='Continent',data=xrate_index_df,s=80,alpha=.7)\n",
    "ax.set_xlabel('dollar purchasing power parity (log scale)',fontsize=13)\n",
    "ax.set_ylabel('USD / local currency (log scale)',fontsize=13)\n",
    "ax.set_title('The Big Mac Index and Currency Exchange Rate',fontsize=20,fontweight='bold',pad=30)"
   ]
  },
  {
   "cell_type": "code",
   "execution_count": 9,
   "metadata": {},
   "outputs": [
    {
     "data": {
      "text/plain": [
       "Continent\n",
       "Africa            2\n",
       "Asia             25\n",
       "Europe           11\n",
       "North America     7\n",
       "Oceania           2\n",
       "South America     7\n",
       "Name: dollar_ppp, dtype: int64"
      ]
     },
     "execution_count": 9,
     "metadata": {},
     "output_type": "execute_result"
    }
   ],
   "source": [
    "xrate_index_df.groupby('Continent')['dollar_ppp'].count()"
   ]
  },
  {
   "cell_type": "markdown",
   "metadata": {},
   "source": [
    "# distribution by continent"
   ]
  },
  {
   "cell_type": "code",
   "execution_count": null,
   "metadata": {},
   "outputs": [],
   "source": []
  }
 ],
 "metadata": {
  "kernelspec": {
   "display_name": "Python 3.10.5 64-bit",
   "language": "python",
   "name": "python3"
  },
  "language_info": {
   "codemirror_mode": {
    "name": "ipython",
    "version": 3
   },
   "file_extension": ".py",
   "mimetype": "text/x-python",
   "name": "python",
   "nbconvert_exporter": "python",
   "pygments_lexer": "ipython3",
   "version": "3.10.5"
  },
  "orig_nbformat": 4,
  "vscode": {
   "interpreter": {
    "hash": "369f2c481f4da34e4445cda3fffd2e751bd1c4d706f27375911949ba6bb62e1c"
   }
  }
 },
 "nbformat": 4,
 "nbformat_minor": 2
}
