{
 "cells": [
  {
   "cell_type": "code",
   "execution_count": 1,
   "metadata": {},
   "outputs": [],
   "source": [
    "import numpy as np\n",
    "import pandas as pd\n",
    "import copy\n",
    "from scipy.stats import t,norm\n",
    "from scipy.stats import chi2\n",
    "import matplotlib.pyplot as plt\n",
    "import seaborn as sns\n",
    "import pandas_datareader as pdr\n",
    "sns.set_style('darkgrid')"
   ]
  },
  {
   "cell_type": "code",
   "execution_count": 4,
   "metadata": {},
   "outputs": [],
   "source": [
    "kospi=pdr.DataReader('^KOSPI',data_source='stooq',start='2016',end='2021')\n",
    "spx=pdr.DataReader('^SPX',data_source='stooq',start='2016',end='2021')\n",
    "ftse=pdr.DataReader('^UKX',data_source='stooq',start='2016',end='2021')\n",
    "nkx=pdr.DataReader('^NKX',data_source='stooq',start='2016',end='2021')\n",
    "shc=pdr.DataReader('^SHC',data_source='stooq',start='2016',end='2021')"
   ]
  },
  {
   "cell_type": "code",
   "execution_count": 8,
   "metadata": {},
   "outputs": [
    {
     "data": {
      "text/plain": [
       "(1227, 1259, 1265, 1221, 1218)"
      ]
     },
     "execution_count": 8,
     "metadata": {},
     "output_type": "execute_result"
    }
   ],
   "source": [
    "len(kospi),len(spx),len(ftse),len(nkx),len(shc)"
   ]
  },
  {
   "cell_type": "code",
   "execution_count": 4,
   "metadata": {},
   "outputs": [
    {
     "data": {
      "text/html": [
       "<div>\n",
       "<style scoped>\n",
       "    .dataframe tbody tr th:only-of-type {\n",
       "        vertical-align: middle;\n",
       "    }\n",
       "\n",
       "    .dataframe tbody tr th {\n",
       "        vertical-align: top;\n",
       "    }\n",
       "\n",
       "    .dataframe thead th {\n",
       "        text-align: right;\n",
       "    }\n",
       "</style>\n",
       "<table border=\"1\" class=\"dataframe\">\n",
       "  <thead>\n",
       "    <tr style=\"text-align: right;\">\n",
       "      <th></th>\n",
       "      <th>Open</th>\n",
       "      <th>High</th>\n",
       "      <th>Low</th>\n",
       "      <th>Close</th>\n",
       "      <th>Volume</th>\n",
       "      <th>Change</th>\n",
       "    </tr>\n",
       "    <tr>\n",
       "      <th>Date</th>\n",
       "      <th></th>\n",
       "      <th></th>\n",
       "      <th></th>\n",
       "      <th></th>\n",
       "      <th></th>\n",
       "      <th></th>\n",
       "    </tr>\n",
       "  </thead>\n",
       "  <tbody>\n",
       "    <tr>\n",
       "      <th>2016-01-11</th>\n",
       "      <td>1897.18</td>\n",
       "      <td>1907.43</td>\n",
       "      <td>1892.69</td>\n",
       "      <td>1894.84</td>\n",
       "      <td>328768000</td>\n",
       "      <td>-1.187931</td>\n",
       "    </tr>\n",
       "    <tr>\n",
       "      <th>2016-01-08</th>\n",
       "      <td>1889.42</td>\n",
       "      <td>1918.25</td>\n",
       "      <td>1883.82</td>\n",
       "      <td>1917.62</td>\n",
       "      <td>430204000</td>\n",
       "      <td>0.697883</td>\n",
       "    </tr>\n",
       "    <tr>\n",
       "      <th>2016-01-07</th>\n",
       "      <td>1915.71</td>\n",
       "      <td>1926.41</td>\n",
       "      <td>1901.24</td>\n",
       "      <td>1904.33</td>\n",
       "      <td>393041984</td>\n",
       "      <td>-1.095859</td>\n",
       "    </tr>\n",
       "    <tr>\n",
       "      <th>2016-01-06</th>\n",
       "      <td>1934.25</td>\n",
       "      <td>1934.25</td>\n",
       "      <td>1911.61</td>\n",
       "      <td>1925.43</td>\n",
       "      <td>594611968</td>\n",
       "      <td>-0.264176</td>\n",
       "    </tr>\n",
       "    <tr>\n",
       "      <th>2016-01-05</th>\n",
       "      <td>1911.93</td>\n",
       "      <td>1937.57</td>\n",
       "      <td>1911.93</td>\n",
       "      <td>1930.53</td>\n",
       "      <td>446548000</td>\n",
       "      <td>0.613417</td>\n",
       "    </tr>\n",
       "  </tbody>\n",
       "</table>\n",
       "</div>"
      ],
      "text/plain": [
       "               Open     High      Low    Close     Volume    Change\n",
       "Date                                                               \n",
       "2016-01-11  1897.18  1907.43  1892.69  1894.84  328768000 -1.187931\n",
       "2016-01-08  1889.42  1918.25  1883.82  1917.62  430204000  0.697883\n",
       "2016-01-07  1915.71  1926.41  1901.24  1904.33  393041984 -1.095859\n",
       "2016-01-06  1934.25  1934.25  1911.61  1925.43  594611968 -0.264176\n",
       "2016-01-05  1911.93  1937.57  1911.93  1930.53  446548000  0.613417"
      ]
     },
     "execution_count": 4,
     "metadata": {},
     "output_type": "execute_result"
    }
   ],
   "source": [
    "def add_percent_change(df):\n",
    "    change=[]\n",
    "\n",
    "    for i in range(len(df)-1):\n",
    "        yesterday_close=df['Close'].iloc[i+1]\n",
    "        today_close=df['Close'].iloc[i]    \n",
    "        change.append((today_close-yesterday_close)/yesterday_close*100)\n",
    "\n",
    "    return change\n",
    "\n",
    "tmp=add_percent_change(kospi)\n",
    "kospi=kospi[:-1]\n",
    "kospi['Change']=tmp\n",
    "\n",
    "tmp=add_percent_change(spx)\n",
    "spx=spx[:-1]\n",
    "spx['Change']=tmp\n",
    "\n",
    "tmp=add_percent_change(ftse)\n",
    "ftse=ftse[:-1]\n",
    "ftse['Change']=tmp\n",
    "\n",
    "tmp=add_percent_change(nkx)\n",
    "nkx=nkx[:-1]\n",
    "nkx['Change']=tmp\n",
    "\n",
    "kospi.tail()\n"
   ]
  },
  {
   "cell_type": "code",
   "execution_count": 69,
   "metadata": {},
   "outputs": [
    {
     "data": {
      "text/html": [
       "<div>\n",
       "<style scoped>\n",
       "    .dataframe tbody tr th:only-of-type {\n",
       "        vertical-align: middle;\n",
       "    }\n",
       "\n",
       "    .dataframe tbody tr th {\n",
       "        vertical-align: top;\n",
       "    }\n",
       "\n",
       "    .dataframe thead th {\n",
       "        text-align: right;\n",
       "    }\n",
       "</style>\n",
       "<table border=\"1\" class=\"dataframe\">\n",
       "  <thead>\n",
       "    <tr style=\"text-align: right;\">\n",
       "      <th></th>\n",
       "      <th>KOSPI</th>\n",
       "      <th>S&amp;P 500</th>\n",
       "      <th>FTSE 250</th>\n",
       "      <th>NIKKEI 225</th>\n",
       "    </tr>\n",
       "  </thead>\n",
       "  <tbody>\n",
       "    <tr>\n",
       "      <th>5 year Performance</th>\n",
       "      <td>48.84%</td>\n",
       "      <td>86.25%</td>\n",
       "      <td>19.08%</td>\n",
       "      <td>49.36%</td>\n",
       "    </tr>\n",
       "  </tbody>\n",
       "</table>\n",
       "</div>"
      ],
      "text/plain": [
       "                     KOSPI S&P 500 FTSE 250 NIKKEI 225\n",
       "5 year Performance  48.84%  86.25%   19.08%     49.36%"
      ]
     },
     "execution_count": 69,
     "metadata": {},
     "output_type": "execute_result"
    }
   ],
   "source": [
    "## 5 year performance\n",
    "\n",
    "kospi_perf=str(np.round((kospi['Close'].iloc[0]-kospi['Close'].iloc[-1])/kospi['Close'].iloc[-1]*100,2))+'%'\n",
    "spx_perf=str(np.round((spx['Close'].iloc[0]-spx['Close'].iloc[-1])/spx['Close'].iloc[-1]*100,2))+'%'\n",
    "ftse_perf=str(np.round((ftse['Close'].iloc[0]-ftse['Close'].iloc[-1])/ftse['Close'].iloc[-1]*100,2))+'%'\n",
    "nkx_perf=str(np.round((nkx['Close'].iloc[0]-nkx['Close'].iloc[-1])/nkx['Close'].iloc[-1]*100,2))+'%'\n",
    "\n",
    "pd.DataFrame([kospi_perf,spx_perf,ftse_perf,nkx_perf],\n",
    "index=['KOSPI','S&P 500','FTSE 250','NIKKEI 225'],columns=['5 year Performance']).T\n"
   ]
  },
  {
   "cell_type": "code",
   "execution_count": 5,
   "metadata": {},
   "outputs": [],
   "source": [
    "kospi_std=kospi.Change.std(ddof=0)\n",
    "spx_std=spx.Change.std(ddof=0)\n",
    "ftse_std=ftse.Change.std(ddof=0)\n",
    "nkx_std=nkx.Change.std(ddof=0)"
   ]
  },
  {
   "cell_type": "code",
   "execution_count": 6,
   "metadata": {},
   "outputs": [
    {
     "name": "stderr",
     "output_type": "stream",
     "text": [
      "c:\\Users\\Administrator\\AppData\\Local\\Programs\\Python\\Python39\\lib\\site-packages\\seaborn\\distributions.py:2619: FutureWarning: `distplot` is a deprecated function and will be removed in a future version. Please adapt your code to use either `displot` (a figure-level function with similar flexibility) or `histplot` (an axes-level function for histograms).\n",
      "  warnings.warn(msg, FutureWarning)\n",
      "c:\\Users\\Administrator\\AppData\\Local\\Programs\\Python\\Python39\\lib\\site-packages\\seaborn\\distributions.py:2619: FutureWarning: `distplot` is a deprecated function and will be removed in a future version. Please adapt your code to use either `displot` (a figure-level function with similar flexibility) or `histplot` (an axes-level function for histograms).\n",
      "  warnings.warn(msg, FutureWarning)\n",
      "c:\\Users\\Administrator\\AppData\\Local\\Programs\\Python\\Python39\\lib\\site-packages\\seaborn\\distributions.py:2619: FutureWarning: `distplot` is a deprecated function and will be removed in a future version. Please adapt your code to use either `displot` (a figure-level function with similar flexibility) or `histplot` (an axes-level function for histograms).\n",
      "  warnings.warn(msg, FutureWarning)\n",
      "c:\\Users\\Administrator\\AppData\\Local\\Programs\\Python\\Python39\\lib\\site-packages\\seaborn\\distributions.py:2619: FutureWarning: `distplot` is a deprecated function and will be removed in a future version. Please adapt your code to use either `displot` (a figure-level function with similar flexibility) or `histplot` (an axes-level function for histograms).\n",
      "  warnings.warn(msg, FutureWarning)\n"
     ]
    },
    {
     "data": {
      "text/plain": [
       "Text(-3, 0.7, 'standard deviation :\\n1.2913')"
      ]
     },
     "execution_count": 6,
     "metadata": {},
     "output_type": "execute_result"
    },
    {
     "data": {
      "image/png": "[encoded data removed]",
      "text/plain": [
       "<Figure size 1440x720 with 4 Axes>"
      ]
     },
     "metadata": {},
     "output_type": "display_data"
    }
   ],
   "source": [
    "fig,ax=plt.subplots(1,4,figsize=(20,10))\n",
    "\n",
    "plt.sca(ax[0])\n",
    "sns.distplot(kospi['Change'],bins=50)\n",
    "plt.title('DAILY RETURNS OF KOSPI')\n",
    "plt.xlabel('percent change')\n",
    "plt.xticks(np.linspace(-10,10,5))\n",
    "plt.xlim([-10,10])\n",
    "plt.yticks(np.linspace(0,1,5))\n",
    "plt.text(-3,.70,'standard deviation :\\n'+str(np.round(kospi_std,4)),fontsize=13,color='b')\n",
    "\n",
    "plt.sca(ax[1])\n",
    "sns.distplot(spx['Change'],bins=50)\n",
    "plt.title('DAILY RETURNS OF S&P 500(US)')\n",
    "plt.xlabel('percent change')\n",
    "plt.xticks(np.linspace(-10,10,5))\n",
    "plt.xlim([-10,10])\n",
    "plt.yticks(np.linspace(0,1,5))\n",
    "plt.text(-3,.70,'standard deviation :\\n'+str(np.round(spx_std,4)),fontsize=13,color='b')\n",
    "\n",
    "plt.sca(ax[2])\n",
    "sns.distplot(ftse['Change'],bins=50)\n",
    "plt.title('DAILY RETURNS OF FTSE 250(UK)')\n",
    "plt.xlabel('percent change')\n",
    "plt.xticks(np.linspace(-10,10,5))\n",
    "plt.xlim([-10,10])\n",
    "plt.yticks(np.linspace(0,1,5))\n",
    "plt.text(-3,.70,'standard deviation :\\n'+str(np.round(ftse_std,4)),fontsize=13,color='b')\n",
    "\n",
    "plt.sca(ax[3])\n",
    "sns.distplot(nkx['Change'],bins=50)\n",
    "plt.title('DAILY RETURNS OF NIKKEI 225(JP)')\n",
    "plt.xlabel('percent change')\n",
    "plt.xticks(np.linspace(-10,10,5))\n",
    "plt.xlim([-10,10])\n",
    "plt.yticks(np.linspace(0,1,5))\n",
    "plt.text(-3,.70,'standard deviation :\\n'+str(np.round(nkx_std,4)),fontsize=13,color='b')"
   ]
  },
  {
   "cell_type": "markdown",
   "metadata": {},
   "source": [
    "## correlation matrix"
   ]
  },
  {
   "cell_type": "code",
   "execution_count": 7,
   "metadata": {},
   "outputs": [
    {
     "data": {
      "text/plain": [
       "<AxesSubplot:>"
      ]
     },
     "execution_count": 7,
     "metadata": {},
     "output_type": "execute_result"
    },
    {
     "data": {
      "image/png": "[encoded data removed]",
      "text/plain": [
       "<Figure size 432x288 with 2 Axes>"
      ]
     },
     "metadata": {},
     "output_type": "display_data"
    }
   ],
   "source": [
    "df=pd.DataFrame([kospi.Close,spx.Close,ftse.Close,nkx.Close],\\\n",
    "    index=['KOSPI','S&P 500','FTSE 250','NIKKEI 225']).T\n",
    "sns.heatmap(df.corr(),annot=True)"
   ]
  },
  {
   "cell_type": "code",
   "execution_count": 8,
   "metadata": {},
   "outputs": [
    {
     "data": {
      "text/html": [
       "<div>\n",
       "<style scoped>\n",
       "    .dataframe tbody tr th:only-of-type {\n",
       "        vertical-align: middle;\n",
       "    }\n",
       "\n",
       "    .dataframe tbody tr th {\n",
       "        vertical-align: top;\n",
       "    }\n",
       "\n",
       "    .dataframe thead th {\n",
       "        text-align: right;\n",
       "    }\n",
       "</style>\n",
       "<table border=\"1\" class=\"dataframe\">\n",
       "  <thead>\n",
       "    <tr style=\"text-align: right;\">\n",
       "      <th></th>\n",
       "      <th>KOSPI</th>\n",
       "      <th>S&amp;P 500</th>\n",
       "      <th>FTSE 250</th>\n",
       "      <th>NIKKEI 225</th>\n",
       "    </tr>\n",
       "    <tr>\n",
       "      <th>Date</th>\n",
       "      <th></th>\n",
       "      <th></th>\n",
       "      <th></th>\n",
       "      <th></th>\n",
       "    </tr>\n",
       "  </thead>\n",
       "  <tbody>\n",
       "    <tr>\n",
       "      <th>2016-01-05</th>\n",
       "      <td>1930.53</td>\n",
       "      <td>2016.71</td>\n",
       "      <td>17205.03</td>\n",
       "      <td>18374.00</td>\n",
       "    </tr>\n",
       "    <tr>\n",
       "      <th>2016-01-06</th>\n",
       "      <td>1925.43</td>\n",
       "      <td>1990.26</td>\n",
       "      <td>17058.98</td>\n",
       "      <td>18191.32</td>\n",
       "    </tr>\n",
       "    <tr>\n",
       "      <th>2016-01-07</th>\n",
       "      <td>1904.33</td>\n",
       "      <td>1943.09</td>\n",
       "      <td>16792.22</td>\n",
       "      <td>17767.34</td>\n",
       "    </tr>\n",
       "    <tr>\n",
       "      <th>2016-01-08</th>\n",
       "      <td>1917.62</td>\n",
       "      <td>1922.03</td>\n",
       "      <td>16732.66</td>\n",
       "      <td>17697.96</td>\n",
       "    </tr>\n",
       "    <tr>\n",
       "      <th>2016-01-11</th>\n",
       "      <td>1894.84</td>\n",
       "      <td>1923.67</td>\n",
       "      <td>16658.32</td>\n",
       "      <td>NaN</td>\n",
       "    </tr>\n",
       "    <tr>\n",
       "      <th>...</th>\n",
       "      <td>...</td>\n",
       "      <td>...</td>\n",
       "      <td>...</td>\n",
       "      <td>...</td>\n",
       "    </tr>\n",
       "    <tr>\n",
       "      <th>2020-12-25</th>\n",
       "      <td>NaN</td>\n",
       "      <td>NaN</td>\n",
       "      <td>NaN</td>\n",
       "      <td>26656.61</td>\n",
       "    </tr>\n",
       "    <tr>\n",
       "      <th>2020-12-28</th>\n",
       "      <td>2808.60</td>\n",
       "      <td>3735.36</td>\n",
       "      <td>NaN</td>\n",
       "      <td>26854.03</td>\n",
       "    </tr>\n",
       "    <tr>\n",
       "      <th>2020-12-29</th>\n",
       "      <td>2820.51</td>\n",
       "      <td>3727.04</td>\n",
       "      <td>20897.59</td>\n",
       "      <td>27568.15</td>\n",
       "    </tr>\n",
       "    <tr>\n",
       "      <th>2020-12-30</th>\n",
       "      <td>2873.47</td>\n",
       "      <td>3732.04</td>\n",
       "      <td>20715.11</td>\n",
       "      <td>27444.17</td>\n",
       "    </tr>\n",
       "    <tr>\n",
       "      <th>2020-12-31</th>\n",
       "      <td>NaN</td>\n",
       "      <td>3756.07</td>\n",
       "      <td>20488.30</td>\n",
       "      <td>NaN</td>\n",
       "    </tr>\n",
       "  </tbody>\n",
       "</table>\n",
       "<p>1300 rows × 4 columns</p>\n",
       "</div>"
      ],
      "text/plain": [
       "              KOSPI  S&P 500  FTSE 250  NIKKEI 225\n",
       "Date                                              \n",
       "2016-01-05  1930.53  2016.71  17205.03    18374.00\n",
       "2016-01-06  1925.43  1990.26  17058.98    18191.32\n",
       "2016-01-07  1904.33  1943.09  16792.22    17767.34\n",
       "2016-01-08  1917.62  1922.03  16732.66    17697.96\n",
       "2016-01-11  1894.84  1923.67  16658.32         NaN\n",
       "...             ...      ...       ...         ...\n",
       "2020-12-25      NaN      NaN       NaN    26656.61\n",
       "2020-12-28  2808.60  3735.36       NaN    26854.03\n",
       "2020-12-29  2820.51  3727.04  20897.59    27568.15\n",
       "2020-12-30  2873.47  3732.04  20715.11    27444.17\n",
       "2020-12-31      NaN  3756.07  20488.30         NaN\n",
       "\n",
       "[1300 rows x 4 columns]"
      ]
     },
     "execution_count": 8,
     "metadata": {},
     "output_type": "execute_result"
    }
   ],
   "source": [
    "df"
   ]
  },
  {
   "cell_type": "markdown",
   "metadata": {},
   "source": [
    "## chi square test"
   ]
  },
  {
   "cell_type": "code",
   "execution_count": 9,
   "metadata": {},
   "outputs": [],
   "source": [
    "kospi_average_returns=kospi['Change'].mean()\n",
    "spx_average_returns=spx['Change'].mean()\n",
    "ftse_average_returns=ftse['Change'].mean()\n",
    "nkx_average_returns=nkx['Change'].mean()"
   ]
  },
  {
   "cell_type": "code",
   "execution_count": 10,
   "metadata": {},
   "outputs": [],
   "source": [
    "kospi_positive=kospi['Close'][kospi['Change']>=0].count()\n",
    "kospi_negative=kospi['Close'][kospi['Change']<0].count()\n",
    "spx_positive=spx['Close'][spx['Change']>=0].count()\n",
    "spx_negative=spx['Close'][spx['Change']<0].count()\n",
    "ftse_positive=ftse['Close'][ftse['Change']>=0].count()\n",
    "ftse_negative=ftse['Close'][ftse['Change']<0].count()\n",
    "nkx_positive=nkx['Close'][nkx['Change']>=0].count()\n",
    "nkx_negative=nkx['Close'][nkx['Change']<0].count()\n",
    "\n",
    "positive_total=kospi_positive+spx_positive+ftse_positive+nkx_positive\n",
    "negative_total=kospi_negative+spx_negative+ftse_negative+nkx_negative\n",
    "total_sum=int(positive_total+negative_total+.5)"
   ]
  },
  {
   "cell_type": "code",
   "execution_count": 11,
   "metadata": {},
   "outputs": [
    {
     "data": {
      "text/html": [
       "<div>\n",
       "<style scoped>\n",
       "    .dataframe tbody tr th:only-of-type {\n",
       "        vertical-align: middle;\n",
       "    }\n",
       "\n",
       "    .dataframe tbody tr th {\n",
       "        vertical-align: top;\n",
       "    }\n",
       "\n",
       "    .dataframe thead th {\n",
       "        text-align: right;\n",
       "    }\n",
       "</style>\n",
       "<table border=\"1\" class=\"dataframe\">\n",
       "  <thead>\n",
       "    <tr style=\"text-align: right;\">\n",
       "      <th></th>\n",
       "      <th>KOSPI</th>\n",
       "      <th>S&amp;P 500</th>\n",
       "      <th>FTSE 250</th>\n",
       "      <th>NIKKEI 225</th>\n",
       "      <th>Total</th>\n",
       "      <th>Ratio</th>\n",
       "    </tr>\n",
       "  </thead>\n",
       "  <tbody>\n",
       "    <tr>\n",
       "      <th>positive return</th>\n",
       "      <td>679</td>\n",
       "      <td>702</td>\n",
       "      <td>671</td>\n",
       "      <td>643</td>\n",
       "      <td>2695</td>\n",
       "      <td>0.5425</td>\n",
       "    </tr>\n",
       "    <tr>\n",
       "      <th>negative return</th>\n",
       "      <td>547</td>\n",
       "      <td>556</td>\n",
       "      <td>593</td>\n",
       "      <td>577</td>\n",
       "      <td>2273</td>\n",
       "      <td>0.4575</td>\n",
       "    </tr>\n",
       "    <tr>\n",
       "      <th>sum</th>\n",
       "      <td>1226</td>\n",
       "      <td>1258</td>\n",
       "      <td>1264</td>\n",
       "      <td>1220</td>\n",
       "      <td>4968</td>\n",
       "      <td>1.0000</td>\n",
       "    </tr>\n",
       "  </tbody>\n",
       "</table>\n",
       "</div>"
      ],
      "text/plain": [
       "                 KOSPI  S&P 500  FTSE 250  NIKKEI 225  Total   Ratio\n",
       "positive return    679      702       671         643   2695  0.5425\n",
       "negative return    547      556       593         577   2273  0.4575\n",
       "sum               1226     1258      1264        1220   4968  1.0000"
      ]
     },
     "execution_count": 11,
     "metadata": {},
     "output_type": "execute_result"
    }
   ],
   "source": [
    "observations=pd.DataFrame(\n",
    "    data=[\n",
    "        [kospi_positive,spx_positive,ftse_positive,nkx_positive,positive_total,np.round(positive_total/total_sum,4)],\n",
    "        [kospi_negative,spx_negative,ftse_negative,nkx_negative,negative_total,np.round(negative_total/total_sum,4)],\n",
    "        [len(kospi),len(spx),len(ftse),len(nkx),total_sum,1]\n",
    "        ],\n",
    "        columns=['KOSPI','S&P 500','FTSE 250','NIKKEI 225','Total','Ratio'],\n",
    "        index=['positive return','negative return','sum'])\n",
    "observations"
   ]
  },
  {
   "cell_type": "code",
   "execution_count": 12,
   "metadata": {},
   "outputs": [],
   "source": [
    "expected_value=[]\n",
    "\n",
    "for column in ['KOSPI','S&P 500','FTSE 250','NIKKEI 225']:\n",
    "    expected_frequency=[int(observations[column].loc['sum']*observations['Ratio'].loc['positive return']+.5),\n",
    "    int(observations[column].loc['sum']*observations['Ratio'].loc['negative return']+.5)]\n",
    "    expected_value.append(np.array(expected_frequency))\n",
    "expected_value=pd.DataFrame(np.array(expected_value).T,columns=['KOSPI','S&P 500','FTSE 250','NIKKEI 225'])"
   ]
  },
  {
   "cell_type": "code",
   "execution_count": 13,
   "metadata": {},
   "outputs": [
    {
     "data": {
      "text/html": [
       "<div>\n",
       "<style scoped>\n",
       "    .dataframe tbody tr th:only-of-type {\n",
       "        vertical-align: middle;\n",
       "    }\n",
       "\n",
       "    .dataframe tbody tr th {\n",
       "        vertical-align: top;\n",
       "    }\n",
       "\n",
       "    .dataframe thead th {\n",
       "        text-align: right;\n",
       "    }\n",
       "</style>\n",
       "<table border=\"1\" class=\"dataframe\">\n",
       "  <thead>\n",
       "    <tr style=\"text-align: right;\">\n",
       "      <th></th>\n",
       "      <th>KOSPI</th>\n",
       "      <th>S&amp;P 500</th>\n",
       "      <th>FTSE 250</th>\n",
       "      <th>NIKKEI 225</th>\n",
       "    </tr>\n",
       "  </thead>\n",
       "  <tbody>\n",
       "    <tr>\n",
       "      <th>0</th>\n",
       "      <td>665</td>\n",
       "      <td>682</td>\n",
       "      <td>686</td>\n",
       "      <td>662</td>\n",
       "    </tr>\n",
       "    <tr>\n",
       "      <th>1</th>\n",
       "      <td>561</td>\n",
       "      <td>576</td>\n",
       "      <td>578</td>\n",
       "      <td>558</td>\n",
       "    </tr>\n",
       "  </tbody>\n",
       "</table>\n",
       "</div>"
      ],
      "text/plain": [
       "   KOSPI  S&P 500  FTSE 250  NIKKEI 225\n",
       "0    665      682       686         662\n",
       "1    561      576       578         558"
      ]
     },
     "execution_count": 13,
     "metadata": {},
     "output_type": "execute_result"
    }
   ],
   "source": [
    "expected_value"
   ]
  },
  {
   "cell_type": "code",
   "execution_count": 14,
   "metadata": {},
   "outputs": [
    {
     "name": "stdout",
     "output_type": "stream",
     "text": [
      "0.29473684210526313\n",
      "0.3493761140819964\n",
      "0.5865102639296188\n",
      "0.6944444444444444\n",
      "0.32798833819241985\n",
      "0.3892733564013841\n",
      "0.5453172205438066\n",
      "0.6469534050179212\n"
     ]
    }
   ],
   "source": [
    "var=[]\n",
    "for i,column in enumerate(list(observations.columns[:-2])):\n",
    "    for j,index in enumerate(list(observations.index[:2])):\n",
    "        k=((observations.iloc[j][i]-expected_value.iloc[j][i])**2)/expected_value.iloc[j][i]\n",
    "        print(k)\n",
    "        var.append(k)\n",
    "\n",
    "chi_statistic=pd.Series(var).sum()"
   ]
  },
  {
   "cell_type": "code",
   "execution_count": 15,
   "metadata": {},
   "outputs": [
    {
     "data": {
      "text/plain": [
       "3.8345999847168546"
      ]
     },
     "execution_count": 15,
     "metadata": {},
     "output_type": "execute_result"
    }
   ],
   "source": [
    "chi_statistic"
   ]
  },
  {
   "cell_type": "code",
   "execution_count": 16,
   "metadata": {},
   "outputs": [],
   "source": [
    "doff=(len(observations.columns[:-2])-1)*(len(observations.index[:2])-1)\n",
    "crit=chi2.ppf(q=.95,df=doff)"
   ]
  },
  {
   "cell_type": "code",
   "execution_count": 17,
   "metadata": {},
   "outputs": [
    {
     "data": {
      "text/plain": [
       "0.27988714217991584"
      ]
     },
     "execution_count": 17,
     "metadata": {},
     "output_type": "execute_result"
    }
   ],
   "source": [
    "1-chi2.cdf(chi_statistic,df=doff)"
   ]
  },
  {
   "cell_type": "code",
   "execution_count": 18,
   "metadata": {},
   "outputs": [
    {
     "data": {
      "image/png": "[encoded data removed]",
      "text/plain": [
       "<Figure size 720x432 with 1 Axes>"
      ]
     },
     "metadata": {},
     "output_type": "display_data"
    }
   ],
   "source": [
    "x = np.linspace(0, 15, 100)\n",
    "y = chi2(doff).pdf(x)\n",
    "\n",
    "plt.figure(figsize=(10, 6))\n",
    "plt.plot(x, y, 'b--')\n",
    "plt.axvline(crit)\n",
    "plt.axvline(chi_statistic,color='r')\n",
    "plt.text(crit+1, .07, 'critical value\\n=' + str(round(crit, 3)), \n",
    "         horizontalalignment='center', color='b')\n",
    "plt.text(chi_statistic+1, .07, 'chi statistic\\n=' + str(round(chi_statistic, 3)), \n",
    "         horizontalalignment='center', color='b')\n",
    "plt.xlabel('X')\n",
    "plt.ylabel('P(X)')\n",
    "plt.ylim([0,.25])\n",
    "plt.title(r'$\\chi^2$ Distribution (df = 3)')\n",
    "plt.show()"
   ]
  },
  {
   "cell_type": "code",
   "execution_count": 19,
   "metadata": {},
   "outputs": [],
   "source": [
    "kospi_above_average=kospi['Close'][kospi_average_returns+.5*kospi_std<kospi['Change']].count()\n",
    "kospi_near_average=\\\n",
    "    kospi['Close'][(kospi_average_returns-.5*kospi_std<kospi['Change'])&(kospi['Change']<kospi_average_returns+.5*kospi_std)].count()\n",
    "kospi_below_average=kospi['Close'][kospi_average_returns-.5*kospi_std>=kospi['Change']].count()\n",
    "\n",
    "spx_above_average=spx['Close'][spx_average_returns+.5*spx_std<spx['Change']].count()\n",
    "spx_near_average=\\\n",
    "    spx['Close'][(spx_average_returns-.5*spx_std<spx['Change'])&(spx['Change']<spx_average_returns+.5*spx_std)].count()\n",
    "spx_below_average=spx['Close'][spx_average_returns-.5*spx_std>=spx['Change']].count()\n",
    "\n",
    "ftse_above_average=ftse['Close'][ftse_average_returns+.5*ftse_std<ftse['Change']].count()\n",
    "ftse_near_average=\\\n",
    "    ftse['Close'][(ftse_average_returns-.5*ftse_std<ftse['Change'])&(ftse['Change']<ftse_average_returns+.5*ftse_std)].count()\n",
    "ftse_below_average=ftse['Close'][ftse_average_returns-.5*ftse_std>=ftse['Change']].count()\n",
    "\n",
    "nkx_above_average=nkx['Close'][nkx_average_returns+.5*nkx_std<nkx['Change']].count()\n",
    "nkx_near_average=\\\n",
    "    nkx['Close'][(nkx_average_returns-.5*nkx_std<nkx['Change'])&(nkx['Change']<nkx_average_returns+.5*nkx_std)].count()\n",
    "nkx_below_average=nkx['Close'][nkx_average_returns-.5*nkx_std>=nkx['Change']].count()"
   ]
  },
  {
   "cell_type": "code",
   "execution_count": 20,
   "metadata": {},
   "outputs": [
    {
     "data": {
      "text/html": [
       "<div>\n",
       "<style scoped>\n",
       "    .dataframe tbody tr th:only-of-type {\n",
       "        vertical-align: middle;\n",
       "    }\n",
       "\n",
       "    .dataframe tbody tr th {\n",
       "        vertical-align: top;\n",
       "    }\n",
       "\n",
       "    .dataframe thead th {\n",
       "        text-align: right;\n",
       "    }\n",
       "</style>\n",
       "<table border=\"1\" class=\"dataframe\">\n",
       "  <thead>\n",
       "    <tr style=\"text-align: right;\">\n",
       "      <th></th>\n",
       "      <th>KOSPI</th>\n",
       "      <th>S&amp;P 500</th>\n",
       "      <th>FTSE 250</th>\n",
       "      <th>NIKKEI 225</th>\n",
       "      <th>Total</th>\n",
       "      <th>Ratio</th>\n",
       "    </tr>\n",
       "  </thead>\n",
       "  <tbody>\n",
       "    <tr>\n",
       "      <th>above 0.5std</th>\n",
       "      <td>308</td>\n",
       "      <td>258</td>\n",
       "      <td>278</td>\n",
       "      <td>288</td>\n",
       "      <td>1132</td>\n",
       "      <td>0.2279</td>\n",
       "    </tr>\n",
       "    <tr>\n",
       "      <th>+0.5std ~ -0.5std</th>\n",
       "      <td>661</td>\n",
       "      <td>783</td>\n",
       "      <td>722</td>\n",
       "      <td>665</td>\n",
       "      <td>2831</td>\n",
       "      <td>0.5698</td>\n",
       "    </tr>\n",
       "    <tr>\n",
       "      <th>below 0.5std</th>\n",
       "      <td>257</td>\n",
       "      <td>217</td>\n",
       "      <td>264</td>\n",
       "      <td>267</td>\n",
       "      <td>1005</td>\n",
       "      <td>0.2023</td>\n",
       "    </tr>\n",
       "    <tr>\n",
       "      <th>sum</th>\n",
       "      <td>1226</td>\n",
       "      <td>1258</td>\n",
       "      <td>1264</td>\n",
       "      <td>1220</td>\n",
       "      <td>4968</td>\n",
       "      <td>1.0000</td>\n",
       "    </tr>\n",
       "  </tbody>\n",
       "</table>\n",
       "</div>"
      ],
      "text/plain": [
       "                   KOSPI  S&P 500  FTSE 250  NIKKEI 225  Total   Ratio\n",
       "above 0.5std         308      258       278         288   1132  0.2279\n",
       "+0.5std ~ -0.5std    661      783       722         665   2831  0.5698\n",
       "below 0.5std         257      217       264         267   1005  0.2023\n",
       "sum                 1226     1258      1264        1220   4968  1.0000"
      ]
     },
     "execution_count": 20,
     "metadata": {},
     "output_type": "execute_result"
    }
   ],
   "source": [
    "near_average_total=kospi_near_average+spx_near_average+ftse_near_average+nkx_near_average\n",
    "\n",
    "kospi_sum=int(kospi_above_average+kospi_near_average+kospi_below_average+.5)\n",
    "spx_sum=int(spx_above_average+spx_near_average+spx_below_average+.5)\n",
    "ftse_sum=int(ftse_above_average+ftse_near_average+ftse_below_average+.5)\n",
    "nkx_sum=int(nkx_above_average+nkx_near_average+nkx_below_average+.5)\n",
    "total_sum=kospi_sum+spx_sum+ftse_sum+nkx_sum\n",
    "\n",
    "above_average_total=kospi_above_average+spx_above_average+ftse_above_average+nkx_above_average\n",
    "near_average_total=kospi_near_average+spx_near_average+ftse_near_average+nkx_near_average\n",
    "below_average_total=kospi_below_average+spx_below_average+ftse_below_average+nkx_below_average\n",
    "\n",
    "above_average_ratio=np.round(above_average_total/total_sum,4)\n",
    "near_average_ratio=np.round(near_average_total/total_sum,4)\n",
    "below_average_ratio=np.round(below_average_total/total_sum,4)\n",
    "\n",
    "observations2=pd.DataFrame(\n",
    "    data=[\n",
    "        [kospi_above_average,spx_above_average,ftse_above_average,nkx_above_average,above_average_total,above_average_ratio],\n",
    "        [kospi_near_average,spx_near_average,ftse_near_average,nkx_near_average,near_average_total,near_average_ratio],\n",
    "        [kospi_below_average,spx_below_average,ftse_below_average,nkx_below_average,below_average_total,below_average_ratio],\n",
    "        [kospi_sum,spx_sum,ftse_sum,nkx_sum,total_sum,1]\n",
    "        ],\n",
    "        columns=['KOSPI','S&P 500','FTSE 250','NIKKEI 225','Total','Ratio'],\n",
    "        index=['above 0.5std','+0.5std ~ -0.5std','below 0.5std','sum'])\n",
    "observations2"
   ]
  },
  {
   "cell_type": "code",
   "execution_count": 21,
   "metadata": {},
   "outputs": [
    {
     "data": {
      "text/html": [
       "<div>\n",
       "<style scoped>\n",
       "    .dataframe tbody tr th:only-of-type {\n",
       "        vertical-align: middle;\n",
       "    }\n",
       "\n",
       "    .dataframe tbody tr th {\n",
       "        vertical-align: top;\n",
       "    }\n",
       "\n",
       "    .dataframe thead th {\n",
       "        text-align: right;\n",
       "    }\n",
       "</style>\n",
       "<table border=\"1\" class=\"dataframe\">\n",
       "  <thead>\n",
       "    <tr style=\"text-align: right;\">\n",
       "      <th></th>\n",
       "      <th>KOSPI</th>\n",
       "      <th>S&amp;P 500</th>\n",
       "      <th>FTSE 250</th>\n",
       "      <th>NIKKEI 225</th>\n",
       "    </tr>\n",
       "  </thead>\n",
       "  <tbody>\n",
       "    <tr>\n",
       "      <th>0</th>\n",
       "      <td>279</td>\n",
       "      <td>287</td>\n",
       "      <td>288</td>\n",
       "      <td>278</td>\n",
       "    </tr>\n",
       "    <tr>\n",
       "      <th>1</th>\n",
       "      <td>699</td>\n",
       "      <td>717</td>\n",
       "      <td>720</td>\n",
       "      <td>695</td>\n",
       "    </tr>\n",
       "    <tr>\n",
       "      <th>2</th>\n",
       "      <td>248</td>\n",
       "      <td>254</td>\n",
       "      <td>256</td>\n",
       "      <td>247</td>\n",
       "    </tr>\n",
       "  </tbody>\n",
       "</table>\n",
       "</div>"
      ],
      "text/plain": [
       "   KOSPI  S&P 500  FTSE 250  NIKKEI 225\n",
       "0    279      287       288         278\n",
       "1    699      717       720         695\n",
       "2    248      254       256         247"
      ]
     },
     "execution_count": 21,
     "metadata": {},
     "output_type": "execute_result"
    }
   ],
   "source": [
    "expected_value=[]\n",
    "\n",
    "for column in ['KOSPI','S&P 500','FTSE 250','NIKKEI 225']:\n",
    "    expected_frequency=[int(observations2[column].loc['sum']*observations2['Ratio'].loc['above 0.5std']+.5),\n",
    "    int(observations2[column].loc['sum']*observations2['Ratio'].loc['+0.5std ~ -0.5std']+.5),\n",
    "    int(observations2[column].loc['sum']*observations2['Ratio'].loc['below 0.5std']+.5)]\n",
    "    expected_value.append(np.array(expected_frequency))\n",
    "expected_value=pd.DataFrame(np.array(expected_value).T,columns=['KOSPI','S&P 500','FTSE 250','NIKKEI 225'])\n",
    "expected_value"
   ]
  },
  {
   "cell_type": "code",
   "execution_count": 22,
   "metadata": {},
   "outputs": [],
   "source": [
    "var=[]\n",
    "for i,column in enumerate(list(observations2.columns[:-2])):\n",
    "    for j,index in enumerate(list(observations2.index[:2])):\n",
    "        k=((observations2.iloc[j][i]-expected_value.iloc[j][i])**2)/expected_value.iloc[j][i]\n",
    "        var.append(k)\n",
    "\n",
    "chi_statistic=pd.Series(var).sum()"
   ]
  },
  {
   "cell_type": "code",
   "execution_count": 23,
   "metadata": {},
   "outputs": [
    {
     "data": {
      "text/plain": [
       "16.093226648282815"
      ]
     },
     "execution_count": 23,
     "metadata": {},
     "output_type": "execute_result"
    }
   ],
   "source": [
    "chi_statistic"
   ]
  },
  {
   "cell_type": "code",
   "execution_count": 24,
   "metadata": {},
   "outputs": [],
   "source": [
    "doff=(len(observations2.columns[:-2])-1)*(len(observations2.index[:-1])-1)\n",
    "crit=chi2.ppf(q=.95,df=doff)"
   ]
  },
  {
   "cell_type": "code",
   "execution_count": 25,
   "metadata": {},
   "outputs": [
    {
     "data": {
      "text/plain": [
       "12.591587243743977"
      ]
     },
     "execution_count": 25,
     "metadata": {},
     "output_type": "execute_result"
    }
   ],
   "source": [
    "crit"
   ]
  },
  {
   "cell_type": "code",
   "execution_count": 26,
   "metadata": {},
   "outputs": [
    {
     "data": {
      "text/plain": [
       "0.013262234023999397"
      ]
     },
     "execution_count": 26,
     "metadata": {},
     "output_type": "execute_result"
    }
   ],
   "source": [
    "1-chi2.cdf(chi_statistic,df=doff)"
   ]
  },
  {
   "cell_type": "code",
   "execution_count": 27,
   "metadata": {},
   "outputs": [
    {
     "data": {
      "image/png": "[encoded data removed]",
      "text/plain": [
       "<Figure size 720x432 with 1 Axes>"
      ]
     },
     "metadata": {},
     "output_type": "display_data"
    }
   ],
   "source": [
    "x = np.linspace(0, 20, 100)\n",
    "y = chi2(doff).pdf(x)\n",
    "\n",
    "plt.figure(figsize=(10, 6))\n",
    "plt.plot(x, y, 'b--')\n",
    "plt.axvline(crit)\n",
    "plt.axvline(chi_statistic,color='r')\n",
    "plt.text(crit+1, .07, 'critical value\\n=' + str(round(crit, 3)), \n",
    "         horizontalalignment='center', color='b')\n",
    "plt.text(chi_statistic+1, .07, 'chi statistic\\n=' + str(round(chi_statistic, 3)), \n",
    "         horizontalalignment='center', color='b')\n",
    "plt.xlabel('X')\n",
    "plt.ylabel('P(X)')\n",
    "plt.ylim([0,.25])\n",
    "plt.title(r'$\\chi^2$ Distribution (df = 6)')\n",
    "plt.show()"
   ]
  },
  {
   "cell_type": "markdown",
   "metadata": {},
   "source": [
    "## runs test"
   ]
  },
  {
   "cell_type": "code",
   "execution_count": 28,
   "metadata": {},
   "outputs": [],
   "source": [
    "## expected number of returns\n",
    "\n",
    "def r_bar(n1,n2):\n",
    "    return 2*n1*n2/(n1+n2)+1\n",
    "\n",
    "def Sr(n1,n2):\n",
    "    return np.sqrt(2*n1*n2*(2*n1*n2-n1-n2)/(((n1+n2)**2)*(n1+n2-1)))\n",
    "\n",
    "## z-test\n",
    "def Z(observed_runs,positive_returns,negative_returns):\n",
    "    return (observed_runs-r_bar(positive_returns,negative_returns))/Sr(positive_returns,negative_returns)\n",
    "\n",
    "def runs(series):\n",
    "    runs=0\n",
    "    for i in range(1,len(series)):\n",
    "        if(series[i]>=0 and series[i-1]<0) | (series[i]<0 and series[i-1]>=0):\n",
    "            runs+=1\n",
    "    return runs+1"
   ]
  },
  {
   "cell_type": "code",
   "execution_count": 56,
   "metadata": {},
   "outputs": [],
   "source": [
    "kospiZ=Z(runs(kospi['Change']),kospi_positive,kospi_negative)\n",
    "spxZ=Z(runs(spx['Change']),spx_positive,spx_negative)\n",
    "ftseZ=Z(runs(ftse['Change']),ftse_positive,ftse_negative)\n",
    "nkxZ=Z(runs(nkx['Change']),nkx_positive,nkx_negative)\n",
    "\n",
    "kospiP=1-norm.cdf(kospiZ)\n",
    "spxP=1-norm.cdf(spxZ)\n",
    "ftseP=1-norm.cdf(ftseZ)\n",
    "nkxP=1-norm.cdf(nkxZ)"
   ]
  },
  {
   "cell_type": "code",
   "execution_count": 57,
   "metadata": {},
   "outputs": [
    {
     "data": {
      "text/plain": [
       "1.6448536269514722"
      ]
     },
     "execution_count": 57,
     "metadata": {},
     "output_type": "execute_result"
    }
   ],
   "source": [
    "norm.ppf(.95)"
   ]
  },
  {
   "cell_type": "code",
   "execution_count": 58,
   "metadata": {},
   "outputs": [
    {
     "data": {
      "text/html": [
       "<div>\n",
       "<style scoped>\n",
       "    .dataframe tbody tr th:only-of-type {\n",
       "        vertical-align: middle;\n",
       "    }\n",
       "\n",
       "    .dataframe tbody tr th {\n",
       "        vertical-align: top;\n",
       "    }\n",
       "\n",
       "    .dataframe thead th {\n",
       "        text-align: right;\n",
       "    }\n",
       "</style>\n",
       "<table border=\"1\" class=\"dataframe\">\n",
       "  <thead>\n",
       "    <tr style=\"text-align: right;\">\n",
       "      <th></th>\n",
       "      <th>KOSPI</th>\n",
       "      <th>S&amp;P 500</th>\n",
       "      <th>FTSE 250</th>\n",
       "      <th>NIKKEI 225</th>\n",
       "    </tr>\n",
       "  </thead>\n",
       "  <tbody>\n",
       "    <tr>\n",
       "      <th>Z</th>\n",
       "      <td>0.699894</td>\n",
       "      <td>2.600174</td>\n",
       "      <td>-1.841263</td>\n",
       "      <td>0.562178</td>\n",
       "    </tr>\n",
       "    <tr>\n",
       "      <th>p value</th>\n",
       "      <td>0.241997</td>\n",
       "      <td>0.004659</td>\n",
       "      <td>0.967208</td>\n",
       "      <td>0.286997</td>\n",
       "    </tr>\n",
       "  </tbody>\n",
       "</table>\n",
       "</div>"
      ],
      "text/plain": [
       "            KOSPI   S&P 500  FTSE 250  NIKKEI 225\n",
       "Z        0.699894  2.600174 -1.841263    0.562178\n",
       "p value  0.241997  0.004659  0.967208    0.286997"
      ]
     },
     "execution_count": 58,
     "metadata": {},
     "output_type": "execute_result"
    }
   ],
   "source": [
    "pd.DataFrame([[kospiZ,spxZ,ftseZ,nkxZ],\n",
    "[kospiP,spxP,ftseP,nkxP]],\n",
    "columns=['KOSPI','S&P 500','FTSE 250','NIKKEI 225'],\n",
    "index=['Z','p value'])"
   ]
  }
 ],
 "metadata": {
  "interpreter": {
   "hash": "6fff98fc3b3d81bd655c2cc48858186e4d9e2db7b515bf1c3221888f12a62f87"
  },
  "kernelspec": {
   "display_name": "Python 3.9.6 64-bit",
   "language": "python",
   "name": "python3"
  },
  "language_info": {
   "codemirror_mode": {
    "name": "ipython",
    "version": 3
   },
   "file_extension": ".py",
   "mimetype": "text/x-python",
   "name": "python",
   "nbconvert_exporter": "python",
   "pygments_lexer": "ipython3",
   "version": "3.9.6"
  },
  "orig_nbformat": 4
 },
 "nbformat": 4,
 "nbformat_minor": 2
}
