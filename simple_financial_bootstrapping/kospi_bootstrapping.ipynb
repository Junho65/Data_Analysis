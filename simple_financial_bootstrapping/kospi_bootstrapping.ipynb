{
 "cells": [
  {
   "cell_type": "code",
   "execution_count": 1,
   "metadata": {},
   "outputs": [],
   "source": [
    "import numpy as np\n",
    "import pandas as pd\n",
    "import matplotlib.pyplot as plt\n",
    "import seaborn as sns\n",
    "sns.set_style('dark')\n",
    "plt.rc('font',family='Malgun Gothic')\n",
    "import matplotlib\n",
    "matplotlib.rcParams['axes.unicode_minus'] = False\n",
    "import random"
   ]
  },
  {
   "cell_type": "markdown",
   "metadata": {},
   "source": [
    "# 6개월간 데이터 불러오기"
   ]
  },
  {
   "cell_type": "code",
   "execution_count": 2,
   "metadata": {},
   "outputs": [
    {
     "data": {
      "text/html": [
       "<div>\n",
       "<style scoped>\n",
       "    .dataframe tbody tr th:only-of-type {\n",
       "        vertical-align: middle;\n",
       "    }\n",
       "\n",
       "    .dataframe tbody tr th {\n",
       "        vertical-align: top;\n",
       "    }\n",
       "\n",
       "    .dataframe thead th {\n",
       "        text-align: right;\n",
       "    }\n",
       "</style>\n",
       "<table border=\"1\" class=\"dataframe\">\n",
       "  <thead>\n",
       "    <tr style=\"text-align: right;\">\n",
       "      <th></th>\n",
       "      <th>일자</th>\n",
       "      <th>종가</th>\n",
       "      <th>대비</th>\n",
       "      <th>등락률</th>\n",
       "      <th>시가</th>\n",
       "      <th>고가</th>\n",
       "      <th>저가</th>\n",
       "      <th>거래량</th>\n",
       "      <th>거래대금</th>\n",
       "      <th>상장시가총액</th>\n",
       "    </tr>\n",
       "  </thead>\n",
       "  <tbody>\n",
       "    <tr>\n",
       "      <th>0</th>\n",
       "      <td>2022-08-22</td>\n",
       "      <td>2462.50</td>\n",
       "      <td>-30.19</td>\n",
       "      <td>-1.21</td>\n",
       "      <td>2467.38</td>\n",
       "      <td>2475.77</td>\n",
       "      <td>2457.08</td>\n",
       "      <td>422552</td>\n",
       "      <td>6108019.0</td>\n",
       "      <td>1.940000e+09</td>\n",
       "    </tr>\n",
       "    <tr>\n",
       "      <th>1</th>\n",
       "      <td>2022-08-19</td>\n",
       "      <td>2492.69</td>\n",
       "      <td>-15.36</td>\n",
       "      <td>-0.61</td>\n",
       "      <td>2510.72</td>\n",
       "      <td>2510.72</td>\n",
       "      <td>2492.69</td>\n",
       "      <td>459835</td>\n",
       "      <td>7138648.0</td>\n",
       "      <td>1.960000e+09</td>\n",
       "    </tr>\n",
       "    <tr>\n",
       "      <th>2</th>\n",
       "      <td>2022-08-18</td>\n",
       "      <td>2508.05</td>\n",
       "      <td>-8.42</td>\n",
       "      <td>-0.33</td>\n",
       "      <td>2499.30</td>\n",
       "      <td>2515.37</td>\n",
       "      <td>2488.09</td>\n",
       "      <td>381628</td>\n",
       "      <td>7105985.0</td>\n",
       "      <td>1.980000e+09</td>\n",
       "    </tr>\n",
       "    <tr>\n",
       "      <th>3</th>\n",
       "      <td>2022-08-17</td>\n",
       "      <td>2516.47</td>\n",
       "      <td>-17.05</td>\n",
       "      <td>-0.67</td>\n",
       "      <td>2536.57</td>\n",
       "      <td>2543.15</td>\n",
       "      <td>2512.01</td>\n",
       "      <td>418053</td>\n",
       "      <td>7153680.0</td>\n",
       "      <td>1.980000e+09</td>\n",
       "    </tr>\n",
       "    <tr>\n",
       "      <th>4</th>\n",
       "      <td>2022-08-16</td>\n",
       "      <td>2533.52</td>\n",
       "      <td>5.58</td>\n",
       "      <td>0.22</td>\n",
       "      <td>2543.05</td>\n",
       "      <td>2546.35</td>\n",
       "      <td>2532.20</td>\n",
       "      <td>398335</td>\n",
       "      <td>8064107.0</td>\n",
       "      <td>2.000000e+09</td>\n",
       "    </tr>\n",
       "    <tr>\n",
       "      <th>5</th>\n",
       "      <td>2022-08-12</td>\n",
       "      <td>2527.94</td>\n",
       "      <td>4.16</td>\n",
       "      <td>0.16</td>\n",
       "      <td>2519.66</td>\n",
       "      <td>2533.20</td>\n",
       "      <td>2514.31</td>\n",
       "      <td>445547</td>\n",
       "      <td>8028577.0</td>\n",
       "      <td>1.990000e+09</td>\n",
       "    </tr>\n",
       "    <tr>\n",
       "      <th>6</th>\n",
       "      <td>2022-08-11</td>\n",
       "      <td>2523.78</td>\n",
       "      <td>42.90</td>\n",
       "      <td>1.73</td>\n",
       "      <td>2507.74</td>\n",
       "      <td>2523.78</td>\n",
       "      <td>2506.41</td>\n",
       "      <td>505246</td>\n",
       "      <td>9710840.0</td>\n",
       "      <td>1.990000e+09</td>\n",
       "    </tr>\n",
       "    <tr>\n",
       "      <th>7</th>\n",
       "      <td>2022-08-10</td>\n",
       "      <td>2480.88</td>\n",
       "      <td>-22.58</td>\n",
       "      <td>-0.90</td>\n",
       "      <td>2493.70</td>\n",
       "      <td>2494.15</td>\n",
       "      <td>2478.21</td>\n",
       "      <td>479467</td>\n",
       "      <td>9029482.0</td>\n",
       "      <td>1.950000e+09</td>\n",
       "    </tr>\n",
       "    <tr>\n",
       "      <th>8</th>\n",
       "      <td>2022-08-09</td>\n",
       "      <td>2503.46</td>\n",
       "      <td>10.36</td>\n",
       "      <td>0.42</td>\n",
       "      <td>2493.57</td>\n",
       "      <td>2506.49</td>\n",
       "      <td>2481.36</td>\n",
       "      <td>454364</td>\n",
       "      <td>8940803.0</td>\n",
       "      <td>1.970000e+09</td>\n",
       "    </tr>\n",
       "    <tr>\n",
       "      <th>9</th>\n",
       "      <td>2022-08-08</td>\n",
       "      <td>2493.10</td>\n",
       "      <td>2.30</td>\n",
       "      <td>0.09</td>\n",
       "      <td>2481.17</td>\n",
       "      <td>2494.00</td>\n",
       "      <td>2477.76</td>\n",
       "      <td>418234</td>\n",
       "      <td>7613758.0</td>\n",
       "      <td>1.960000e+09</td>\n",
       "    </tr>\n",
       "  </tbody>\n",
       "</table>\n",
       "</div>"
      ],
      "text/plain": [
       "           일자       종가     대비   등락률       시가       고가       저가     거래량  \\\n",
       "0  2022-08-22  2462.50 -30.19 -1.21  2467.38  2475.77  2457.08  422552   \n",
       "1  2022-08-19  2492.69 -15.36 -0.61  2510.72  2510.72  2492.69  459835   \n",
       "2  2022-08-18  2508.05  -8.42 -0.33  2499.30  2515.37  2488.09  381628   \n",
       "3  2022-08-17  2516.47 -17.05 -0.67  2536.57  2543.15  2512.01  418053   \n",
       "4  2022-08-16  2533.52   5.58  0.22  2543.05  2546.35  2532.20  398335   \n",
       "5  2022-08-12  2527.94   4.16  0.16  2519.66  2533.20  2514.31  445547   \n",
       "6  2022-08-11  2523.78  42.90  1.73  2507.74  2523.78  2506.41  505246   \n",
       "7  2022-08-10  2480.88 -22.58 -0.90  2493.70  2494.15  2478.21  479467   \n",
       "8  2022-08-09  2503.46  10.36  0.42  2493.57  2506.49  2481.36  454364   \n",
       "9  2022-08-08  2493.10   2.30  0.09  2481.17  2494.00  2477.76  418234   \n",
       "\n",
       "        거래대금        상장시가총액  \n",
       "0  6108019.0  1.940000e+09  \n",
       "1  7138648.0  1.960000e+09  \n",
       "2  7105985.0  1.980000e+09  \n",
       "3  7153680.0  1.980000e+09  \n",
       "4  8064107.0  2.000000e+09  \n",
       "5  8028577.0  1.990000e+09  \n",
       "6  9710840.0  1.990000e+09  \n",
       "7  9029482.0  1.950000e+09  \n",
       "8  8940803.0  1.970000e+09  \n",
       "9  7613758.0  1.960000e+09  "
      ]
     },
     "execution_count": 2,
     "metadata": {},
     "output_type": "execute_result"
    }
   ],
   "source": [
    "kospi=pd.read_csv('KOSPI_2022_0222_0822.csv',encoding='cp949')\n",
    "kospi.head(10)"
   ]
  },
  {
   "cell_type": "code",
   "execution_count": 3,
   "metadata": {},
   "outputs": [
    {
     "name": "stdout",
     "output_type": "stream",
     "text": [
      "<class 'pandas.core.frame.DataFrame'>\n",
      "RangeIndex: 124 entries, 0 to 123\n",
      "Data columns (total 10 columns):\n",
      " #   Column  Non-Null Count  Dtype  \n",
      "---  ------  --------------  -----  \n",
      " 0   일자      124 non-null    object \n",
      " 1   종가      124 non-null    float64\n",
      " 2   대비      124 non-null    float64\n",
      " 3   등락률     124 non-null    float64\n",
      " 4   시가      124 non-null    float64\n",
      " 5   고가      124 non-null    float64\n",
      " 6   저가      124 non-null    float64\n",
      " 7   거래량     124 non-null    int64  \n",
      " 8   거래대금    124 non-null    float64\n",
      " 9   상장시가총액  124 non-null    float64\n",
      "dtypes: float64(8), int64(1), object(1)\n",
      "memory usage: 9.8+ KB\n"
     ]
    }
   ],
   "source": [
    "kospi.info()"
   ]
  },
  {
   "cell_type": "code",
   "execution_count": 4,
   "metadata": {},
   "outputs": [],
   "source": [
    "def get_log_percent_change_df(df):\n",
    "    change=[]\n",
    "\n",
    "    for i in range(len(df)-1):\n",
    "        yesterday_close=df['종가'].iloc[i+1]\n",
    "        today_close=df['종가'].iloc[i]\n",
    "        change.append(np.log(today_close)-np.log(yesterday_close))\n",
    "\n",
    "    return change\n",
    "\n",
    "box=get_log_percent_change_df(kospi)"
   ]
  },
  {
   "cell_type": "code",
   "execution_count": 5,
   "metadata": {},
   "outputs": [
    {
     "data": {
      "text/plain": [
       "[-0.01218535457054859,\n",
       " -0.006143110141441532,\n",
       " -0.003351567067828576,\n",
       " -0.006752514276228361,\n",
       " 0.0022048982944182782,\n",
       " 0.0016469641786676092,\n",
       " 0.017144441700866153,\n",
       " -0.00906043908270071,\n",
       " 0.004146858977478907,\n",
       " 0.0009229720352639248,\n",
       " 0.007127476077910977,\n",
       " 0.00472586074582626,\n",
       " 0.008908317720606185,\n",
       " -0.0051636809904715975,\n",
       " 0.0003058883531368295,\n",
       " 0.006642448764780262,\n",
       " 0.008138908620307639,\n",
       " 0.0010645150938257686,\n",
       " 0.0038491530193560664,\n",
       " 0.004398745426023254,\n",
       " -0.006671827842988698,\n",
       " 0.009303634031114782,\n",
       " 0.0066753508825883046,\n",
       " -0.001803540990578334,\n",
       " 0.018813915096490774,\n",
       " 0.0037220939969291322,\n",
       " -0.0027048370260907006,\n",
       " 0.004670321012568479,\n",
       " -0.009665105303877652,\n",
       " -0.004408561611827011,\n",
       " 0.0069756605327899734,\n",
       " 0.01827004656301856,\n",
       " -0.021482162112318015,\n",
       " 0.017854385860177402,\n",
       " -0.0022059343343991955,\n",
       " -0.011737800943114607,\n",
       " -0.019254919670906645,\n",
       " -0.01837521076764581,\n",
       " 0.00836238628846342,\n",
       " 0.01481409155614255,\n",
       " 0.022338418080219746,\n",
       " -0.012235155733068659,\n",
       " -0.02783160188908962,\n",
       " 0.007458430061342725,\n",
       " -0.020654878778904262,\n",
       " -0.0042842549904094085,\n",
       " 0.001645304619756871,\n",
       " -0.018456706176197102,\n",
       " -0.00461833584582827,\n",
       " -0.0358286139258448,\n",
       " -0.01132678049835878,\n",
       " -0.00027039430127828723,\n",
       " -7.234663943567199e-05,\n",
       " -0.016730646491530443,\n",
       " 0.004375537035472554,\n",
       " -0.010069515884607583,\n",
       " 0.006064743846425635,\n",
       " 0.011911115611311196,\n",
       " 0.009751529516545787,\n",
       " -0.0018242073869956243,\n",
       " 0.0043460931614784926,\n",
       " -0.015803879109826724,\n",
       " 0.0030605300935429014,\n",
       " 0.017948998866470944,\n",
       " -0.01289321697824164,\n",
       " 0.0021119171012324855,\n",
       " 0.009147048069822361,\n",
       " -0.0029456914636076803,\n",
       " 0.02101615477067842,\n",
       " -0.016409208504478023,\n",
       " -0.0016535523335665658,\n",
       " -0.005473025949902954,\n",
       " -0.012825274934717967,\n",
       " -0.012423873838962152,\n",
       " -0.0010787547961692567,\n",
       " -0.002604367044506617,\n",
       " -0.0028239684350044314,\n",
       " 0.01027880170630091,\n",
       " 0.01071516221071711,\n",
       " -0.01102252006013238,\n",
       " 0.004198720265209843,\n",
       " -0.01774810473624555,\n",
       " -0.008651018811884903,\n",
       " 0.003495569844772284,\n",
       " -7.356213613007867e-05,\n",
       " 0.009489918044749857,\n",
       " -0.0010576572580989207,\n",
       " -0.0076301413823962605,\n",
       " 8.098358246311221e-05,\n",
       " 0.01847635339598863,\n",
       " -0.00982869404937503,\n",
       " -0.0027032605750179073,\n",
       " 0.0016789441053015608,\n",
       " -0.014425141816843734,\n",
       " -0.008798377905318233,\n",
       " 0.00047126208481174103,\n",
       " 0.006566346179786464,\n",
       " -0.006475693388978243,\n",
       " 0.003964113838889283,\n",
       " 0.0020663988066562666,\n",
       " 0.00420793107326034,\n",
       " -0.00015385911663923224,\n",
       " 0.00011722384639512029,\n",
       " -0.001972657926176069,\n",
       " 0.009201082350878131,\n",
       " 0.008876921922868597,\n",
       " -0.007776685888807755,\n",
       " 0.0046320292093362525,\n",
       " 0.013179762444409882,\n",
       " 0.014278490408964117,\n",
       " -0.00915866501652296,\n",
       " -0.005890428248726209,\n",
       " -0.007128980319783373,\n",
       " 0.021846261372442832,\n",
       " -0.010963928467765172,\n",
       " -0.023159659772161945,\n",
       " -0.012325012121010559,\n",
       " 0.015983901738163553,\n",
       " 0.001606604450932636,\n",
       " 0.008340915256278336,\n",
       " 0.010500400672092347,\n",
       " -0.026352364008736195,\n",
       " 0.004695640289817504]"
      ]
     },
     "execution_count": 5,
     "metadata": {},
     "output_type": "execute_result"
    }
   ],
   "source": [
    "box"
   ]
  },
  {
   "cell_type": "code",
   "execution_count": 6,
   "metadata": {},
   "outputs": [],
   "source": [
    "returns=[]\n",
    "\n",
    "for k in range(1000000):\n",
    "    sample=[]\n",
    "\n",
    "    for i in range(125):\n",
    "        sample.append(random.choice(box))\n",
    "    \n",
    "    # 로그 수익률을 더하고, e의 지수로 올립니다\n",
    "    percent_return=(np.exp(sum(sample))-1)*100\n",
    "    returns.append(percent_return)"
   ]
  },
  {
   "cell_type": "code",
   "execution_count": 7,
   "metadata": {},
   "outputs": [
    {
     "data": {
      "text/html": [
       "<div>\n",
       "<style scoped>\n",
       "    .dataframe tbody tr th:only-of-type {\n",
       "        vertical-align: middle;\n",
       "    }\n",
       "\n",
       "    .dataframe tbody tr th {\n",
       "        vertical-align: top;\n",
       "    }\n",
       "\n",
       "    .dataframe thead th {\n",
       "        text-align: right;\n",
       "    }\n",
       "</style>\n",
       "<table border=\"1\" class=\"dataframe\">\n",
       "  <thead>\n",
       "    <tr style=\"text-align: right;\">\n",
       "      <th></th>\n",
       "      <th>0</th>\n",
       "    </tr>\n",
       "  </thead>\n",
       "  <tbody>\n",
       "    <tr>\n",
       "      <th>count</th>\n",
       "      <td>1000000.000000</td>\n",
       "    </tr>\n",
       "    <tr>\n",
       "      <th>mean</th>\n",
       "      <td>-8.482569</td>\n",
       "    </tr>\n",
       "    <tr>\n",
       "      <th>std</th>\n",
       "      <td>11.409889</td>\n",
       "    </tr>\n",
       "    <tr>\n",
       "      <th>min</th>\n",
       "      <td>-52.924108</td>\n",
       "    </tr>\n",
       "    <tr>\n",
       "      <th>25%</th>\n",
       "      <td>-16.462050</td>\n",
       "    </tr>\n",
       "    <tr>\n",
       "      <th>50%</th>\n",
       "      <td>-9.132381</td>\n",
       "    </tr>\n",
       "    <tr>\n",
       "      <th>75%</th>\n",
       "      <td>-1.187048</td>\n",
       "    </tr>\n",
       "    <tr>\n",
       "      <th>max</th>\n",
       "      <td>62.815929</td>\n",
       "    </tr>\n",
       "  </tbody>\n",
       "</table>\n",
       "</div>"
      ],
      "text/plain": [
       "                    0\n",
       "count  1000000.000000\n",
       "mean        -8.482569\n",
       "std         11.409889\n",
       "min        -52.924108\n",
       "25%        -16.462050\n",
       "50%         -9.132381\n",
       "75%         -1.187048\n",
       "max         62.815929"
      ]
     },
     "execution_count": 7,
     "metadata": {},
     "output_type": "execute_result"
    }
   ],
   "source": [
    "pd.DataFrame(returns).describe()"
   ]
  },
  {
   "cell_type": "code",
   "execution_count": 8,
   "metadata": {},
   "outputs": [
    {
     "data": {
      "image/png": "[encoded data removed]",
      "text/plain": [
       "<Figure size 1152x576 with 1 Axes>"
      ]
     },
     "metadata": {
      "needs_background": "light"
     },
     "output_type": "display_data"
    }
   ],
   "source": [
    "# 1 sigma\n",
    "fig,ax=plt.subplots(figsize=(16,8))\n",
    "ax.set_title(label='125 거래일 기대수익률 분포',fontsize=30,fontweight='bold',pad=30)\n",
    "ax.set_xlabel('% returns',fontsize=13)\n",
    "ax.set_ylabel('빈도수',fontsize=13)\n",
    "# ax.vlines()\n",
    "ax.hist(x=returns,bins=100);"
   ]
  },
  {
   "cell_type": "code",
   "execution_count": 11,
   "metadata": {},
   "outputs": [],
   "source": [
    "pctl_5=np.percentile(returns,5)"
   ]
  },
  {
   "cell_type": "code",
   "execution_count": 20,
   "metadata": {},
   "outputs": [
    {
     "data": {
      "text/plain": [
       "-26.065683076426005"
      ]
     },
     "execution_count": 20,
     "metadata": {},
     "output_type": "execute_result"
    }
   ],
   "source": [
    "np.percentile(returns,5)"
   ]
  },
  {
   "cell_type": "code",
   "execution_count": 22,
   "metadata": {},
   "outputs": [
    {
     "data": {
      "text/plain": [
       "(-19.758156906618645, 2.7850800334717554)"
      ]
     },
     "execution_count": 22,
     "metadata": {},
     "output_type": "execute_result"
    }
   ],
   "source": [
    "np.percentile(returns,50-68/2),np.percentile(returns,50+68/2)"
   ]
  },
  {
   "cell_type": "code",
   "execution_count": 19,
   "metadata": {},
   "outputs": [
    {
     "data": {
      "image/png": "[encoded data removed]",
      "text/plain": [
       "<Figure size 1152x576 with 1 Axes>"
      ]
     },
     "metadata": {
      "needs_background": "light"
     },
     "output_type": "display_data"
    }
   ],
   "source": [
    "# VaR vline\n",
    "from turtle import color\n",
    "\n",
    "fig,ax=plt.subplots(figsize=(16,8))\n",
    "ax.set_title(label='125 거래일 기대수익률 분포',fontsize=30,fontweight='bold',pad=30)\n",
    "ax.set_xlabel('% returns',fontsize=13)\n",
    "ax.set_ylabel('빈도수',fontsize=13)\n",
    "ax.axvline(x=pctl_5,ymin=0,ymax=1,color='red')\n",
    "ax.hist(x=returns,bins=80);"
   ]
  }
 ],
 "metadata": {
  "kernelspec": {
   "display_name": "Python 3.10.5 64-bit",
   "language": "python",
   "name": "python3"
  },
  "language_info": {
   "codemirror_mode": {
    "name": "ipython",
    "version": 3
   },
   "file_extension": ".py",
   "mimetype": "text/x-python",
   "name": "python",
   "nbconvert_exporter": "python",
   "pygments_lexer": "ipython3",
   "version": "3.10.5"
  },
  "orig_nbformat": 4,
  "vscode": {
   "interpreter": {
    "hash": "369f2c481f4da34e4445cda3fffd2e751bd1c4d706f27375911949ba6bb62e1c"
   }
  }
 },
 "nbformat": 4,
 "nbformat_minor": 2
}
