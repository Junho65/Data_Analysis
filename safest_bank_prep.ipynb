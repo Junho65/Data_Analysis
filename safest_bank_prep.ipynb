{
 "cells": [
  {
   "cell_type": "code",
   "execution_count": 137,
   "metadata": {},
   "outputs": [],
   "source": [
    "import numpy as np\n",
    "import pandas as pd\n",
    "import pandas_datareader as pdr\n",
    "import matplotlib.pyplot as plt\n",
    "import seaborn as sns\n",
    "sns.set_style('dark')"
   ]
  },
  {
   "cell_type": "code",
   "execution_count": 138,
   "metadata": {},
   "outputs": [],
   "source": [
    "def get_exp_coeff(time,series):\n",
    "    from sklearn.linear_model import LinearRegression\n",
    "    lr=LinearRegression()\n",
    "    time=range(len(time))\n",
    "    \n",
    "    y_log=np.log(series)\n",
    "    lr.fit(np.array(time).reshape(-1,1),y_log)\n",
    "    \n",
    "    return lr.coef_"
   ]
  },
  {
   "cell_type": "code",
   "execution_count": 139,
   "metadata": {},
   "outputs": [
    {
     "data": {
      "text/html": [
       "<div>\n",
       "<style scoped>\n",
       "    .dataframe tbody tr th:only-of-type {\n",
       "        vertical-align: middle;\n",
       "    }\n",
       "\n",
       "    .dataframe tbody tr th {\n",
       "        vertical-align: top;\n",
       "    }\n",
       "\n",
       "    .dataframe thead th {\n",
       "        text-align: right;\n",
       "    }\n",
       "</style>\n",
       "<table border=\"1\" class=\"dataframe\">\n",
       "  <thead>\n",
       "    <tr style=\"text-align: right;\">\n",
       "      <th></th>\n",
       "      <th>Group Name</th>\n",
       "      <th>Country</th>\n",
       "      <th>Statement</th>\n",
       "      <th>Assets(mn)</th>\n",
       "    </tr>\n",
       "    <tr>\n",
       "      <th>Rank</th>\n",
       "      <th></th>\n",
       "      <th></th>\n",
       "      <th></th>\n",
       "      <th></th>\n",
       "    </tr>\n",
       "  </thead>\n",
       "  <tbody>\n",
       "    <tr>\n",
       "      <th>1</th>\n",
       "      <td>KfW</td>\n",
       "      <td>Germany</td>\n",
       "      <td>30</td>\n",
       "      <td>534429</td>\n",
       "    </tr>\n",
       "    <tr>\n",
       "      <th>2</th>\n",
       "      <td>Zürcher  Kantonalbank</td>\n",
       "      <td>Switzerland</td>\n",
       "      <td>30</td>\n",
       "      <td>155222</td>\n",
       "    </tr>\n",
       "    <tr>\n",
       "      <th>3</th>\n",
       "      <td>Landwirtschaftliche Rentenbank</td>\n",
       "      <td>Germany</td>\n",
       "      <td>30</td>\n",
       "      <td>100185</td>\n",
       "    </tr>\n",
       "    <tr>\n",
       "      <th>4</th>\n",
       "      <td>L-Bank</td>\n",
       "      <td>Germany</td>\n",
       "      <td>30</td>\n",
       "      <td>79010</td>\n",
       "    </tr>\n",
       "    <tr>\n",
       "      <th>5</th>\n",
       "      <td>Bank Nederlandse Gemeenten</td>\n",
       "      <td>Netherlands</td>\n",
       "      <td>29</td>\n",
       "      <td>162327</td>\n",
       "    </tr>\n",
       "  </tbody>\n",
       "</table>\n",
       "</div>"
      ],
      "text/plain": [
       "                          Group Name      Country  Statement  Assets(mn)\n",
       "Rank                                                                    \n",
       "1                                KfW      Germany         30      534429\n",
       "2              Zürcher  Kantonalbank  Switzerland         30      155222\n",
       "3     Landwirtschaftliche Rentenbank      Germany         30      100185\n",
       "4                             L-Bank      Germany         30       79010\n",
       "5         Bank Nederlandse Gemeenten  Netherlands         29      162327"
      ]
     },
     "execution_count": 139,
     "metadata": {},
     "output_type": "execute_result"
    }
   ],
   "source": [
    "df2017=pd.read_csv('data/safest_banks50_2017.csv',index_col=0)\n",
    "df2018=pd.read_csv('data/safest_banks50_2018.csv',index_col=0)\n",
    "df2019=pd.read_csv('data/safest_banks50_2019.csv',index_col=0)\n",
    "df2020=pd.read_csv('data/safest_banks50_2020.csv',index_col=0)\n",
    "df2021=pd.read_csv('data/safest_banks50_2021.csv',index_col=0)\n",
    "df2017.head()"
   ]
  },
  {
   "cell_type": "code",
   "execution_count": 140,
   "metadata": {},
   "outputs": [
    {
     "data": {
      "text/html": [
       "<div>\n",
       "<style scoped>\n",
       "    .dataframe tbody tr th:only-of-type {\n",
       "        vertical-align: middle;\n",
       "    }\n",
       "\n",
       "    .dataframe tbody tr th {\n",
       "        vertical-align: top;\n",
       "    }\n",
       "\n",
       "    .dataframe thead th {\n",
       "        text-align: right;\n",
       "    }\n",
       "</style>\n",
       "<table border=\"1\" class=\"dataframe\">\n",
       "  <thead>\n",
       "    <tr style=\"text-align: right;\">\n",
       "      <th></th>\n",
       "      <th>Group Name</th>\n",
       "      <th>Country</th>\n",
       "      <th>Score</th>\n",
       "      <th>Assets(mn)</th>\n",
       "    </tr>\n",
       "  </thead>\n",
       "  <tbody>\n",
       "    <tr>\n",
       "      <th>1</th>\n",
       "      <td>KfW</td>\n",
       "      <td>Germany</td>\n",
       "      <td>30.0</td>\n",
       "      <td>NaN</td>\n",
       "    </tr>\n",
       "    <tr>\n",
       "      <th>2</th>\n",
       "      <td>Zuercher Kantonalbank</td>\n",
       "      <td>Switzerland</td>\n",
       "      <td>30.0</td>\n",
       "      <td>NaN</td>\n",
       "    </tr>\n",
       "    <tr>\n",
       "      <th>3</th>\n",
       "      <td>BNG Bank</td>\n",
       "      <td>Netherlands</td>\n",
       "      <td>30.0</td>\n",
       "      <td>NaN</td>\n",
       "    </tr>\n",
       "    <tr>\n",
       "      <th>4</th>\n",
       "      <td>Landwirtschaftliche Rentenbank</td>\n",
       "      <td>Germany</td>\n",
       "      <td>30.0</td>\n",
       "      <td>NaN</td>\n",
       "    </tr>\n",
       "    <tr>\n",
       "      <th>5</th>\n",
       "      <td>Nederlandse Waterschapsbank</td>\n",
       "      <td>Netherlands</td>\n",
       "      <td>29.0</td>\n",
       "      <td>NaN</td>\n",
       "    </tr>\n",
       "  </tbody>\n",
       "</table>\n",
       "</div>"
      ],
      "text/plain": [
       "                       Group Name      Country  Score  Assets(mn)\n",
       "1                             KfW      Germany   30.0         NaN\n",
       "2           Zuercher Kantonalbank  Switzerland   30.0         NaN\n",
       "3                        BNG Bank  Netherlands   30.0         NaN\n",
       "4  Landwirtschaftliche Rentenbank      Germany   30.0         NaN\n",
       "5     Nederlandse Waterschapsbank  Netherlands   29.0         NaN"
      ]
     },
     "execution_count": 140,
     "metadata": {},
     "output_type": "execute_result"
    }
   ],
   "source": [
    "df2020.head()"
   ]
  },
  {
   "cell_type": "code",
   "execution_count": 141,
   "metadata": {},
   "outputs": [
    {
     "name": "stdout",
     "output_type": "stream",
     "text": [
      "<class 'pandas.core.frame.DataFrame'>\n",
      "Int64Index: 50 entries, 1 to 50\n",
      "Data columns (total 4 columns):\n",
      " #   Column      Non-Null Count  Dtype \n",
      "---  ------      --------------  ----- \n",
      " 0   Group Name  50 non-null     object\n",
      " 1   Country     50 non-null     object\n",
      " 2   Statement   50 non-null     int64 \n",
      " 3   Assets(mn)  50 non-null     int64 \n",
      "dtypes: int64(2), object(2)\n",
      "memory usage: 2.0+ KB\n",
      "<class 'pandas.core.frame.DataFrame'>\n",
      "Int64Index: 50 entries, 1 to 50\n",
      "Data columns (total 4 columns):\n",
      " #   Column      Non-Null Count  Dtype \n",
      "---  ------      --------------  ----- \n",
      " 0   Group Name  50 non-null     object\n",
      " 1   Country     50 non-null     object\n",
      " 2   Score       50 non-null     int64 \n",
      " 3   Assets(mn)  50 non-null     int64 \n",
      "dtypes: int64(2), object(2)\n",
      "memory usage: 2.0+ KB\n",
      "<class 'pandas.core.frame.DataFrame'>\n",
      "Int64Index: 50 entries, 1 to 50\n",
      "Data columns (total 4 columns):\n",
      " #   Column      Non-Null Count  Dtype \n",
      "---  ------      --------------  ----- \n",
      " 0   Group Name  50 non-null     object\n",
      " 1   Country     49 non-null     object\n",
      " 2   Score       50 non-null     int64 \n",
      " 3   Assets(mn)  50 non-null     int64 \n",
      "dtypes: int64(2), object(2)\n",
      "memory usage: 2.0+ KB\n",
      "<class 'pandas.core.frame.DataFrame'>\n",
      "Int64Index: 50 entries, 1 to 50\n",
      "Data columns (total 4 columns):\n",
      " #   Column      Non-Null Count  Dtype  \n",
      "---  ------      --------------  -----  \n",
      " 0   Group Name  50 non-null     object \n",
      " 1   Country     50 non-null     object \n",
      " 2   Score       50 non-null     float64\n",
      " 3   Assets(mn)  0 non-null      float64\n",
      "dtypes: float64(2), object(2)\n",
      "memory usage: 2.0+ KB\n",
      "<class 'pandas.core.frame.DataFrame'>\n",
      "Int64Index: 50 entries, 1 to 50\n",
      "Data columns (total 4 columns):\n",
      " #   Column      Non-Null Count  Dtype  \n",
      "---  ------      --------------  -----  \n",
      " 0   Group Name  50 non-null     object \n",
      " 1   Country     50 non-null     object \n",
      " 2   Score       50 non-null     float64\n",
      " 3   Assets      0 non-null      float64\n",
      "dtypes: float64(2), object(2)\n",
      "memory usage: 2.0+ KB\n"
     ]
    },
    {
     "data": {
      "text/plain": [
       "(None, None, None, None, None)"
      ]
     },
     "execution_count": 141,
     "metadata": {},
     "output_type": "execute_result"
    }
   ],
   "source": [
    "df2017.info(),df2018.info(),df2019.info(),df2020.info(),df2021.info()"
   ]
  },
  {
   "cell_type": "code",
   "execution_count": 142,
   "metadata": {},
   "outputs": [],
   "source": [
    "tmpdf=pd.concat([df2017,df2018,df2019,df2020,df2021])\n",
    "\n",
    "ranking_counts=pd.DataFrame(tmpdf['Country'].value_counts())"
   ]
  },
  {
   "cell_type": "code",
   "execution_count": 143,
   "metadata": {},
   "outputs": [
    {
     "data": {
      "text/html": [
       "<div>\n",
       "<style scoped>\n",
       "    .dataframe tbody tr th:only-of-type {\n",
       "        vertical-align: middle;\n",
       "    }\n",
       "\n",
       "    .dataframe tbody tr th {\n",
       "        vertical-align: top;\n",
       "    }\n",
       "\n",
       "    .dataframe thead th {\n",
       "        text-align: right;\n",
       "    }\n",
       "</style>\n",
       "<table border=\"1\" class=\"dataframe\">\n",
       "  <thead>\n",
       "    <tr style=\"text-align: right;\">\n",
       "      <th></th>\n",
       "      <th>Country</th>\n",
       "    </tr>\n",
       "  </thead>\n",
       "  <tbody>\n",
       "    <tr>\n",
       "      <th>Germany</th>\n",
       "      <td>36</td>\n",
       "    </tr>\n",
       "    <tr>\n",
       "      <th>Canada</th>\n",
       "      <td>31</td>\n",
       "    </tr>\n",
       "    <tr>\n",
       "      <th>United States</th>\n",
       "      <td>23</td>\n",
       "    </tr>\n",
       "    <tr>\n",
       "      <th>Australia</th>\n",
       "      <td>20</td>\n",
       "    </tr>\n",
       "    <tr>\n",
       "      <th>France</th>\n",
       "      <td>19</td>\n",
       "    </tr>\n",
       "    <tr>\n",
       "      <th>Sweden</th>\n",
       "      <td>19</td>\n",
       "    </tr>\n",
       "    <tr>\n",
       "      <th>Switzerland</th>\n",
       "      <td>18</td>\n",
       "    </tr>\n",
       "    <tr>\n",
       "      <th>Singapore</th>\n",
       "      <td>15</td>\n",
       "    </tr>\n",
       "    <tr>\n",
       "      <th>South Korea</th>\n",
       "      <td>15</td>\n",
       "    </tr>\n",
       "    <tr>\n",
       "      <th>Netherlands</th>\n",
       "      <td>14</td>\n",
       "    </tr>\n",
       "    <tr>\n",
       "      <th>Norway</th>\n",
       "      <td>9</td>\n",
       "    </tr>\n",
       "    <tr>\n",
       "      <th>Finland</th>\n",
       "      <td>8</td>\n",
       "    </tr>\n",
       "    <tr>\n",
       "      <th>UAE</th>\n",
       "      <td>5</td>\n",
       "    </tr>\n",
       "    <tr>\n",
       "      <th>Hong Kong</th>\n",
       "      <td>5</td>\n",
       "    </tr>\n",
       "    <tr>\n",
       "      <th>Luxembourg</th>\n",
       "      <td>4</td>\n",
       "    </tr>\n",
       "    <tr>\n",
       "      <th>Kuwait</th>\n",
       "      <td>3</td>\n",
       "    </tr>\n",
       "    <tr>\n",
       "      <th>China</th>\n",
       "      <td>2</td>\n",
       "    </tr>\n",
       "    <tr>\n",
       "      <th>Taiwan</th>\n",
       "      <td>2</td>\n",
       "    </tr>\n",
       "    <tr>\n",
       "      <th>Liechtenstein</th>\n",
       "      <td>1</td>\n",
       "    </tr>\n",
       "  </tbody>\n",
       "</table>\n",
       "</div>"
      ],
      "text/plain": [
       "               Country\n",
       "Germany             36\n",
       "Canada              31\n",
       "United States       23\n",
       "Australia           20\n",
       "France              19\n",
       "Sweden              19\n",
       "Switzerland         18\n",
       "Singapore           15\n",
       "South Korea         15\n",
       "Netherlands         14\n",
       "Norway               9\n",
       "Finland              8\n",
       "UAE                  5\n",
       "Hong Kong            5\n",
       "Luxembourg           4\n",
       "Kuwait               3\n",
       "China                2\n",
       "Taiwan               2\n",
       "Liechtenstein        1"
      ]
     },
     "execution_count": 143,
     "metadata": {},
     "output_type": "execute_result"
    }
   ],
   "source": [
    "ranking_counts"
   ]
  },
  {
   "cell_type": "code",
   "execution_count": 144,
   "metadata": {},
   "outputs": [],
   "source": [
    "ranking_counts.drop('Liechtenstein',axis=0,inplace=True)"
   ]
  },
  {
   "cell_type": "code",
   "execution_count": 145,
   "metadata": {},
   "outputs": [],
   "source": [
    "## Germany EWG\n",
    "## canada EWC\n",
    "## US SPY\n",
    "## australia EWA\n",
    "## france EWQ\n",
    "## sweden EWD\n",
    "## swiss EWL\n",
    "## singapore EWS\n",
    "## korea EWY\n",
    "## netherlands EWN\n",
    "## norway ENOR\n",
    "## finland EFNL\n",
    "## uae UAE\n",
    "## hong kong EWH\n",
    "## china MCHI\n",
    "## kuwait KWT"
   ]
  },
  {
   "cell_type": "code",
   "execution_count": 146,
   "metadata": {},
   "outputs": [
    {
     "name": "stdout",
     "output_type": "stream",
     "text": [
      "Requirement already satisfied: html5lib in c:\\users\\administrator\\appdata\\local\\programs\\python\\python39\\lib\\site-packages (1.1)\n",
      "Requirement already satisfied: webencodings in c:\\users\\administrator\\appdata\\local\\programs\\python\\python39\\lib\\site-packages (from html5lib) (0.5.1)\n",
      "Requirement already satisfied: six>=1.9 in c:\\users\\administrator\\appdata\\local\\programs\\python\\python39\\lib\\site-packages (from html5lib) (1.16.0)\n",
      "Note: you may need to restart the kernel to use updated packages.\n"
     ]
    },
    {
     "name": "stderr",
     "output_type": "stream",
     "text": [
      "WARNING: There was an error checking the latest version of pip.\n"
     ]
    }
   ],
   "source": [
    "%pip install html5lib"
   ]
  },
  {
   "cell_type": "code",
   "execution_count": 147,
   "metadata": {},
   "outputs": [],
   "source": [
    "germany=pdr.DataReader('EWG',data_source='yahoo',start='2017',end='2022')\n",
    "canada=pdr.DataReader('EWC',data_source='yahoo',start='2017',end='2022')\n",
    "usa=pdr.DataReader('SPY',data_source='yahoo',start='2017',end='2022')\n",
    "australia=pdr.DataReader('EWA',data_source='yahoo',start='2017',end='2022')\n",
    "france=pdr.DataReader('EWQ',data_source='yahoo',start='2017',end='2022')\n",
    "sweden=pdr.DataReader('EWD',data_source='yahoo',start='2017',end='2022')\n",
    "swiss=pdr.DataReader('EWL',data_source='yahoo',start='2017',end='2022')\n",
    "singapore=pdr.DataReader('EWS',data_source='yahoo',start='2017',end='2022')\n",
    "korea=pdr.DataReader('EWY',data_source='yahoo',start='2017',end='2022')\n",
    "netherlands=pdr.DataReader('EWN',data_source='yahoo',start='2017',end='2022')\n",
    "norway=pdr.DataReader('ENOR',data_source='yahoo',start='2017',end='2022')\n",
    "finland=pdr.DataReader('EFNL',data_source='yahoo',start='2017',end='2022')\n",
    "uae=pdr.DataReader('UAE',data_source='yahoo',start='2017',end='2022')\n",
    "hongkong=pdr.DataReader('EWH',data_source='yahoo',start='2017',end='2022')\n",
    "china=pdr.DataReader('MCHI',data_source='yahoo',start='2017',end='2022')\n",
    "taiwan=pdr.DataReader('EWT',data_source='yahoo',start='2017',end='2022')\n"
   ]
  },
  {
   "cell_type": "code",
   "execution_count": 148,
   "metadata": {},
   "outputs": [
    {
     "data": {
      "text/plain": [
       "range(0, 1259)"
      ]
     },
     "execution_count": 148,
     "metadata": {},
     "output_type": "execute_result"
    }
   ],
   "source": [
    "range(len(k))"
   ]
  },
  {
   "cell_type": "code",
   "execution_count": 149,
   "metadata": {},
   "outputs": [],
   "source": [
    "from sklearn.linear_model import LinearRegression\n",
    "lr=LinearRegression()\n",
    "\n",
    "y=germany['Adj Close']\n",
    "y_log=np.log(y)"
   ]
  },
  {
   "cell_type": "code",
   "execution_count": 150,
   "metadata": {},
   "outputs": [
    {
     "data": {
      "text/plain": [
       "LinearRegression()"
      ]
     },
     "execution_count": 150,
     "metadata": {},
     "output_type": "execute_result"
    }
   ],
   "source": [
    "time=range(len(y_log))\n",
    "lr.fit(np.array(time).reshape(-1,1),y_log)"
   ]
  },
  {
   "cell_type": "code",
   "execution_count": 151,
   "metadata": {},
   "outputs": [
    {
     "data": {
      "text/plain": [
       "<AxesSubplot:xlabel='Date'>"
      ]
     },
     "execution_count": 151,
     "metadata": {},
     "output_type": "execute_result"
    },
    {
     "data": {
      "image/png": "[encoded data removed]",
      "text/plain": [
       "<Figure size 432x288 with 1 Axes>"
      ]
     },
     "metadata": {},
     "output_type": "display_data"
    }
   ],
   "source": [
    "y_log.plot()"
   ]
  },
  {
   "cell_type": "code",
   "execution_count": 152,
   "metadata": {},
   "outputs": [
    {
     "data": {
      "text/plain": [
       "[<matplotlib.lines.Line2D at 0x20ca9a565b0>]"
      ]
     },
     "execution_count": 152,
     "metadata": {},
     "output_type": "execute_result"
    },
    {
     "data": {
      "image/png": "[encoded data removed]",
      "text/plain": [
       "<Figure size 432x288 with 1 Axes>"
      ]
     },
     "metadata": {},
     "output_type": "display_data"
    }
   ],
   "source": [
    "def expf(X):\n",
    "    X=X.reshape(-1,1)\n",
    "    return np.exp(lr.predict(X))\n",
    "\n",
    "X=np.array(time)\n",
    "\n",
    "r=expf(X)\n",
    "s=pd.Series(r)\n",
    "plt.plot(s)\n",
    "plt.plot(y)"
   ]
  },
  {
   "cell_type": "code",
   "execution_count": 153,
   "metadata": {},
   "outputs": [],
   "source": [
    "luxembourg=pd.read_csv('data/S&P_Luxembourg_2017.csv')"
   ]
  },
  {
   "cell_type": "code",
   "execution_count": 154,
   "metadata": {},
   "outputs": [],
   "source": [
    "kuwait=pd.read_csv('data/S&P_Kuwait_2017.csv')"
   ]
  },
  {
   "cell_type": "code",
   "execution_count": 155,
   "metadata": {},
   "outputs": [
    {
     "name": "stdout",
     "output_type": "stream",
     "text": [
      "<class 'pandas.core.frame.DataFrame'>\n",
      "RangeIndex: 1567 entries, 0 to 1566\n",
      "Data columns (total 2 columns):\n",
      " #   Column     Non-Null Count  Dtype  \n",
      "---  ------     --------------  -----  \n",
      " 0   Date       1445 non-null   object \n",
      " 1   Adj Close  1445 non-null   float64\n",
      "dtypes: float64(1), object(1)\n",
      "memory usage: 24.6+ KB\n"
     ]
    }
   ],
   "source": [
    "kuwait.info()"
   ]
  },
  {
   "cell_type": "code",
   "execution_count": 156,
   "metadata": {},
   "outputs": [],
   "source": [
    "kuwait.dropna(inplace=True)"
   ]
  },
  {
   "cell_type": "code",
   "execution_count": 157,
   "metadata": {},
   "outputs": [],
   "source": [
    "countries=[germany,canada,usa,australia,france,sweden,swiss,singapore,korea,netherlands,norway,finland,uae,hongkong,luxembourg,kuwait,china,taiwan]"
   ]
  },
  {
   "cell_type": "code",
   "execution_count": 158,
   "metadata": {},
   "outputs": [
    {
     "data": {
      "text/html": [
       "<div>\n",
       "<style scoped>\n",
       "    .dataframe tbody tr th:only-of-type {\n",
       "        vertical-align: middle;\n",
       "    }\n",
       "\n",
       "    .dataframe tbody tr th {\n",
       "        vertical-align: top;\n",
       "    }\n",
       "\n",
       "    .dataframe thead th {\n",
       "        text-align: right;\n",
       "    }\n",
       "</style>\n",
       "<table border=\"1\" class=\"dataframe\">\n",
       "  <thead>\n",
       "    <tr style=\"text-align: right;\">\n",
       "      <th></th>\n",
       "      <th>Date</th>\n",
       "      <th>Value</th>\n",
       "    </tr>\n",
       "  </thead>\n",
       "  <tbody>\n",
       "    <tr>\n",
       "      <th>0</th>\n",
       "      <td>2017-01-02</td>\n",
       "      <td>63.36</td>\n",
       "    </tr>\n",
       "    <tr>\n",
       "      <th>1</th>\n",
       "      <td>2017-01-03</td>\n",
       "      <td>63.23</td>\n",
       "    </tr>\n",
       "    <tr>\n",
       "      <th>2</th>\n",
       "      <td>2017-01-04</td>\n",
       "      <td>63.58</td>\n",
       "    </tr>\n",
       "    <tr>\n",
       "      <th>3</th>\n",
       "      <td>2017-01-05</td>\n",
       "      <td>65.12</td>\n",
       "    </tr>\n",
       "    <tr>\n",
       "      <th>4</th>\n",
       "      <td>2017-01-06</td>\n",
       "      <td>64.53</td>\n",
       "    </tr>\n",
       "    <tr>\n",
       "      <th>...</th>\n",
       "      <td>...</td>\n",
       "      <td>...</td>\n",
       "    </tr>\n",
       "    <tr>\n",
       "      <th>1418</th>\n",
       "      <td>2022-06-09</td>\n",
       "      <td>56.79</td>\n",
       "    </tr>\n",
       "    <tr>\n",
       "      <th>1419</th>\n",
       "      <td>2022-06-10</td>\n",
       "      <td>54.27</td>\n",
       "    </tr>\n",
       "    <tr>\n",
       "      <th>1420</th>\n",
       "      <td>NaN</td>\n",
       "      <td>NaN</td>\n",
       "    </tr>\n",
       "    <tr>\n",
       "      <th>1421</th>\n",
       "      <td>NaN</td>\n",
       "      <td>NaN</td>\n",
       "    </tr>\n",
       "    <tr>\n",
       "      <th>1422</th>\n",
       "      <td>NaN</td>\n",
       "      <td>NaN</td>\n",
       "    </tr>\n",
       "  </tbody>\n",
       "</table>\n",
       "<p>1423 rows × 2 columns</p>\n",
       "</div>"
      ],
      "text/plain": [
       "            Date  Value\n",
       "0     2017-01-02  63.36\n",
       "1     2017-01-03  63.23\n",
       "2     2017-01-04  63.58\n",
       "3     2017-01-05  65.12\n",
       "4     2017-01-06  64.53\n",
       "...          ...    ...\n",
       "1418  2022-06-09  56.79\n",
       "1419  2022-06-10  54.27\n",
       "1420         NaN    NaN\n",
       "1421         NaN    NaN\n",
       "1422         NaN    NaN\n",
       "\n",
       "[1423 rows x 2 columns]"
      ]
     },
     "execution_count": 158,
     "metadata": {},
     "output_type": "execute_result"
    }
   ],
   "source": [
    "luxembourg"
   ]
  },
  {
   "cell_type": "code",
   "execution_count": 159,
   "metadata": {},
   "outputs": [
    {
     "data": {
      "text/plain": [
       "Date     3\n",
       "Value    3\n",
       "dtype: int64"
      ]
     },
     "execution_count": 159,
     "metadata": {},
     "output_type": "execute_result"
    }
   ],
   "source": [
    "luxembourg.isnull().sum()"
   ]
  },
  {
   "cell_type": "code",
   "execution_count": 160,
   "metadata": {},
   "outputs": [
    {
     "name": "stdout",
     "output_type": "stream",
     "text": [
      "<class 'pandas.core.frame.DataFrame'>\n",
      "RangeIndex: 1423 entries, 0 to 1422\n",
      "Data columns (total 2 columns):\n",
      " #   Column  Non-Null Count  Dtype         \n",
      "---  ------  --------------  -----         \n",
      " 0   Date    1420 non-null   datetime64[ns]\n",
      " 1   Value   1420 non-null   float64       \n",
      "dtypes: datetime64[ns](1), float64(1)\n",
      "memory usage: 22.4 KB\n"
     ]
    }
   ],
   "source": [
    "luxembourg['Date']=pd.to_datetime(luxembourg['Date'])\n",
    "luxembourg.info()"
   ]
  },
  {
   "cell_type": "code",
   "execution_count": 161,
   "metadata": {},
   "outputs": [],
   "source": [
    "luxembourg.dropna(inplace=True)"
   ]
  },
  {
   "cell_type": "code",
   "execution_count": 162,
   "metadata": {},
   "outputs": [
    {
     "data": {
      "text/html": [
       "<div>\n",
       "<style scoped>\n",
       "    .dataframe tbody tr th:only-of-type {\n",
       "        vertical-align: middle;\n",
       "    }\n",
       "\n",
       "    .dataframe tbody tr th {\n",
       "        vertical-align: top;\n",
       "    }\n",
       "\n",
       "    .dataframe thead th {\n",
       "        text-align: right;\n",
       "    }\n",
       "</style>\n",
       "<table border=\"1\" class=\"dataframe\">\n",
       "  <thead>\n",
       "    <tr style=\"text-align: right;\">\n",
       "      <th></th>\n",
       "      <th>Date</th>\n",
       "      <th>Value</th>\n",
       "    </tr>\n",
       "  </thead>\n",
       "  <tbody>\n",
       "    <tr>\n",
       "      <th>0</th>\n",
       "      <td>2017-01-02</td>\n",
       "      <td>63.36</td>\n",
       "    </tr>\n",
       "    <tr>\n",
       "      <th>1</th>\n",
       "      <td>2017-01-03</td>\n",
       "      <td>63.23</td>\n",
       "    </tr>\n",
       "    <tr>\n",
       "      <th>2</th>\n",
       "      <td>2017-01-04</td>\n",
       "      <td>63.58</td>\n",
       "    </tr>\n",
       "    <tr>\n",
       "      <th>3</th>\n",
       "      <td>2017-01-05</td>\n",
       "      <td>65.12</td>\n",
       "    </tr>\n",
       "    <tr>\n",
       "      <th>4</th>\n",
       "      <td>2017-01-06</td>\n",
       "      <td>64.53</td>\n",
       "    </tr>\n",
       "  </tbody>\n",
       "</table>\n",
       "</div>"
      ],
      "text/plain": [
       "        Date  Value\n",
       "0 2017-01-02  63.36\n",
       "1 2017-01-03  63.23\n",
       "2 2017-01-04  63.58\n",
       "3 2017-01-05  65.12\n",
       "4 2017-01-06  64.53"
      ]
     },
     "execution_count": 162,
     "metadata": {},
     "output_type": "execute_result"
    }
   ],
   "source": [
    "luxembourg.head()"
   ]
  },
  {
   "cell_type": "code",
   "execution_count": 163,
   "metadata": {},
   "outputs": [],
   "source": [
    "luxembourg['Date']=pd.to_datetime(luxembourg['Date'])"
   ]
  },
  {
   "cell_type": "code",
   "execution_count": 164,
   "metadata": {},
   "outputs": [],
   "source": [
    "luxembourg=luxembourg[luxembourg['Date']<='2021-12-31']"
   ]
  },
  {
   "cell_type": "code",
   "execution_count": 165,
   "metadata": {},
   "outputs": [],
   "source": [
    "luxembourg=luxembourg.set_index('Date')"
   ]
  },
  {
   "cell_type": "code",
   "execution_count": 166,
   "metadata": {},
   "outputs": [],
   "source": [
    "luxembourg.rename(columns={'Value':'Adj Close'},inplace=True)"
   ]
  },
  {
   "cell_type": "code",
   "execution_count": 167,
   "metadata": {},
   "outputs": [
    {
     "data": {
      "text/html": [
       "<div>\n",
       "<style scoped>\n",
       "    .dataframe tbody tr th:only-of-type {\n",
       "        vertical-align: middle;\n",
       "    }\n",
       "\n",
       "    .dataframe tbody tr th {\n",
       "        vertical-align: top;\n",
       "    }\n",
       "\n",
       "    .dataframe thead th {\n",
       "        text-align: right;\n",
       "    }\n",
       "</style>\n",
       "<table border=\"1\" class=\"dataframe\">\n",
       "  <thead>\n",
       "    <tr style=\"text-align: right;\">\n",
       "      <th></th>\n",
       "      <th>Date</th>\n",
       "      <th>Adj Close</th>\n",
       "    </tr>\n",
       "  </thead>\n",
       "  <tbody>\n",
       "    <tr>\n",
       "      <th>0</th>\n",
       "      <td>2017-01-02</td>\n",
       "      <td>63.36</td>\n",
       "    </tr>\n",
       "    <tr>\n",
       "      <th>1</th>\n",
       "      <td>2017-01-03</td>\n",
       "      <td>63.23</td>\n",
       "    </tr>\n",
       "    <tr>\n",
       "      <th>2</th>\n",
       "      <td>2017-01-04</td>\n",
       "      <td>63.58</td>\n",
       "    </tr>\n",
       "    <tr>\n",
       "      <th>3</th>\n",
       "      <td>2017-01-05</td>\n",
       "      <td>65.12</td>\n",
       "    </tr>\n",
       "    <tr>\n",
       "      <th>4</th>\n",
       "      <td>2017-01-06</td>\n",
       "      <td>64.53</td>\n",
       "    </tr>\n",
       "    <tr>\n",
       "      <th>...</th>\n",
       "      <td>...</td>\n",
       "      <td>...</td>\n",
       "    </tr>\n",
       "    <tr>\n",
       "      <th>1300</th>\n",
       "      <td>2021-12-27</td>\n",
       "      <td>68.33</td>\n",
       "    </tr>\n",
       "    <tr>\n",
       "      <th>1301</th>\n",
       "      <td>2021-12-28</td>\n",
       "      <td>68.43</td>\n",
       "    </tr>\n",
       "    <tr>\n",
       "      <th>1302</th>\n",
       "      <td>2021-12-29</td>\n",
       "      <td>69.20</td>\n",
       "    </tr>\n",
       "    <tr>\n",
       "      <th>1303</th>\n",
       "      <td>2021-12-30</td>\n",
       "      <td>68.36</td>\n",
       "    </tr>\n",
       "    <tr>\n",
       "      <th>1304</th>\n",
       "      <td>2021-12-31</td>\n",
       "      <td>68.11</td>\n",
       "    </tr>\n",
       "  </tbody>\n",
       "</table>\n",
       "<p>1305 rows × 2 columns</p>\n",
       "</div>"
      ],
      "text/plain": [
       "           Date  Adj Close\n",
       "0    2017-01-02      63.36\n",
       "1    2017-01-03      63.23\n",
       "2    2017-01-04      63.58\n",
       "3    2017-01-05      65.12\n",
       "4    2017-01-06      64.53\n",
       "...         ...        ...\n",
       "1300 2021-12-27      68.33\n",
       "1301 2021-12-28      68.43\n",
       "1302 2021-12-29      69.20\n",
       "1303 2021-12-30      68.36\n",
       "1304 2021-12-31      68.11\n",
       "\n",
       "[1305 rows x 2 columns]"
      ]
     },
     "execution_count": 167,
     "metadata": {},
     "output_type": "execute_result"
    }
   ],
   "source": [
    "luxembourg.reset_index()"
   ]
  },
  {
   "cell_type": "code",
   "execution_count": 168,
   "metadata": {},
   "outputs": [],
   "source": [
    "for df in countries:\n",
    "    df.reset_index(inplace=True)"
   ]
  },
  {
   "cell_type": "code",
   "execution_count": 170,
   "metadata": {},
   "outputs": [],
   "source": [
    "luxembourg.reset_index(inplace=True)"
   ]
  },
  {
   "cell_type": "code",
   "execution_count": 176,
   "metadata": {},
   "outputs": [
    {
     "data": {
      "text/plain": [
       "Index(['Date', 'Adj Close'], dtype='object')"
      ]
     },
     "execution_count": 176,
     "metadata": {},
     "output_type": "execute_result"
    }
   ],
   "source": [
    "luxembourg.columns"
   ]
  },
  {
   "cell_type": "code",
   "execution_count": 177,
   "metadata": {},
   "outputs": [
    {
     "data": {
      "text/plain": [
       "Index(['index', 'Date', 'Adj Close'], dtype='object')"
      ]
     },
     "execution_count": 177,
     "metadata": {},
     "output_type": "execute_result"
    }
   ],
   "source": [
    "kuwait.columns"
   ]
  },
  {
   "cell_type": "code",
   "execution_count": 191,
   "metadata": {},
   "outputs": [],
   "source": [
    "countries[14].rename(columns={'Value':'Adj Close'},inplace=True)"
   ]
  },
  {
   "cell_type": "code",
   "execution_count": 192,
   "metadata": {},
   "outputs": [
    {
     "data": {
      "text/html": [
       "<div>\n",
       "<style scoped>\n",
       "    .dataframe tbody tr th:only-of-type {\n",
       "        vertical-align: middle;\n",
       "    }\n",
       "\n",
       "    .dataframe tbody tr th {\n",
       "        vertical-align: top;\n",
       "    }\n",
       "\n",
       "    .dataframe thead th {\n",
       "        text-align: right;\n",
       "    }\n",
       "</style>\n",
       "<table border=\"1\" class=\"dataframe\">\n",
       "  <thead>\n",
       "    <tr style=\"text-align: right;\">\n",
       "      <th></th>\n",
       "      <th>index</th>\n",
       "      <th>Date</th>\n",
       "      <th>Adj Close</th>\n",
       "    </tr>\n",
       "  </thead>\n",
       "  <tbody>\n",
       "    <tr>\n",
       "      <th>0</th>\n",
       "      <td>0</td>\n",
       "      <td>2017-01-02</td>\n",
       "      <td>63.36</td>\n",
       "    </tr>\n",
       "    <tr>\n",
       "      <th>1</th>\n",
       "      <td>1</td>\n",
       "      <td>2017-01-03</td>\n",
       "      <td>63.23</td>\n",
       "    </tr>\n",
       "    <tr>\n",
       "      <th>2</th>\n",
       "      <td>2</td>\n",
       "      <td>2017-01-04</td>\n",
       "      <td>63.58</td>\n",
       "    </tr>\n",
       "    <tr>\n",
       "      <th>3</th>\n",
       "      <td>3</td>\n",
       "      <td>2017-01-05</td>\n",
       "      <td>65.12</td>\n",
       "    </tr>\n",
       "    <tr>\n",
       "      <th>4</th>\n",
       "      <td>4</td>\n",
       "      <td>2017-01-06</td>\n",
       "      <td>64.53</td>\n",
       "    </tr>\n",
       "    <tr>\n",
       "      <th>...</th>\n",
       "      <td>...</td>\n",
       "      <td>...</td>\n",
       "      <td>...</td>\n",
       "    </tr>\n",
       "    <tr>\n",
       "      <th>1415</th>\n",
       "      <td>1415</td>\n",
       "      <td>2022-06-06</td>\n",
       "      <td>59.43</td>\n",
       "    </tr>\n",
       "    <tr>\n",
       "      <th>1416</th>\n",
       "      <td>1416</td>\n",
       "      <td>2022-06-07</td>\n",
       "      <td>59.82</td>\n",
       "    </tr>\n",
       "    <tr>\n",
       "      <th>1417</th>\n",
       "      <td>1417</td>\n",
       "      <td>2022-06-08</td>\n",
       "      <td>58.83</td>\n",
       "    </tr>\n",
       "    <tr>\n",
       "      <th>1418</th>\n",
       "      <td>1418</td>\n",
       "      <td>2022-06-09</td>\n",
       "      <td>56.79</td>\n",
       "    </tr>\n",
       "    <tr>\n",
       "      <th>1419</th>\n",
       "      <td>1419</td>\n",
       "      <td>2022-06-10</td>\n",
       "      <td>54.27</td>\n",
       "    </tr>\n",
       "  </tbody>\n",
       "</table>\n",
       "<p>1420 rows × 3 columns</p>\n",
       "</div>"
      ],
      "text/plain": [
       "      index       Date  Adj Close\n",
       "0         0 2017-01-02      63.36\n",
       "1         1 2017-01-03      63.23\n",
       "2         2 2017-01-04      63.58\n",
       "3         3 2017-01-05      65.12\n",
       "4         4 2017-01-06      64.53\n",
       "...     ...        ...        ...\n",
       "1415   1415 2022-06-06      59.43\n",
       "1416   1416 2022-06-07      59.82\n",
       "1417   1417 2022-06-08      58.83\n",
       "1418   1418 2022-06-09      56.79\n",
       "1419   1419 2022-06-10      54.27\n",
       "\n",
       "[1420 rows x 3 columns]"
      ]
     },
     "execution_count": 192,
     "metadata": {},
     "output_type": "execute_result"
    }
   ],
   "source": [
    "countries[14]"
   ]
  },
  {
   "cell_type": "code",
   "execution_count": 193,
   "metadata": {},
   "outputs": [
    {
     "name": "stdout",
     "output_type": "stream",
     "text": [
      "        Date       High        Low       Open      Close     Volume  Adj Close\n",
      "0 2017-01-03  26.549999  26.410000  26.490000  26.500000  2838700.0  22.801811\n",
      "1 2017-01-04  26.680000  26.510000  26.510000  26.660000  2657900.0  22.939484\n",
      "2 2017-01-05  27.010000  26.790001  26.790001  26.950001  4653300.0  23.189013\n",
      "3 2017-01-06  26.930000  26.809999  26.809999  26.860001  1278300.0  23.111572\n",
      "4 2017-01-09  26.879999  26.700001  26.709999  26.830000  1195500.0  23.085760\n",
      "        Date       High        Low       Open      Close     Volume  Adj Close\n",
      "0 2017-01-03  26.430000  26.180000  26.180000  26.299999  3723400.0  23.416159\n",
      "1 2017-01-04  26.790001  26.530001  26.559999  26.740000  1763200.0  23.807915\n",
      "2 2017-01-05  27.090000  26.790001  26.840000  26.940001  3203300.0  23.985983\n",
      "3 2017-01-06  27.010000  26.809999  27.000000  26.889999   868700.0  23.941469\n",
      "4 2017-01-09  26.820000  26.610001  26.820000  26.700001   911300.0  23.772303\n",
      "        Date        High         Low        Open       Close      Volume  \\\n",
      "0 2017-01-03  225.830002  223.880005  225.039993  225.240005  91366500.0   \n",
      "1 2017-01-04  226.750000  225.610001  225.619995  226.580002  78744400.0   \n",
      "2 2017-01-05  226.580002  225.479996  226.270004  226.399994  78379000.0   \n",
      "3 2017-01-06  227.750000  225.899994  226.529999  227.210007  71559900.0   \n",
      "4 2017-01-09  227.070007  226.419998  226.910004  226.460007  46939700.0   \n",
      "\n",
      "    Adj Close  \n",
      "0  204.625168  \n",
      "1  205.842529  \n",
      "2  205.679001  \n",
      "3  206.414841  \n",
      "4  205.733551  \n",
      "        Date       High        Low       Open      Close     Volume  Adj Close\n",
      "0 2017-01-03  20.600000  20.510000  20.570000  20.590000  4346400.0  16.087889\n",
      "1 2017-01-04  20.850000  20.680000  20.719999  20.850000  1715700.0  16.291037\n",
      "2 2017-01-05  21.049999  20.860001  20.900000  21.049999  7159800.0  16.447306\n",
      "3 2017-01-06  21.000000  20.889999  20.930000  20.940001  2798300.0  16.361359\n",
      "4 2017-01-09  21.230000  21.110001  21.120001  21.170000  1891600.0  16.541069\n",
      "        Date       High        Low       Open      Close    Volume  Adj Close\n",
      "0 2017-01-03  24.700001  24.610001  24.680000  24.660000  657200.0  21.232458\n",
      "1 2017-01-04  24.840000  24.660000  24.700001  24.830000  233400.0  21.378832\n",
      "2 2017-01-05  25.090000  24.910000  24.920000  25.059999  357000.0  21.576862\n",
      "3 2017-01-06  25.020000  24.920000  24.920000  24.959999  286600.0  21.490763\n",
      "4 2017-01-09  24.969999  24.799999  24.830000  24.930000  341900.0  21.464930\n",
      "        Date       High        Low       Open      Close    Volume  Adj Close\n",
      "0 2017-01-03  28.930000  28.820000  28.820000  28.930000  350500.0  23.353273\n",
      "1 2017-01-04  29.100000  28.889999  28.910000  29.090000  428700.0  23.482430\n",
      "2 2017-01-05  29.270000  28.990000  28.990000  29.190001  394700.0  23.563154\n",
      "3 2017-01-06  29.190001  28.959999  29.000000  29.139999  482300.0  23.522791\n",
      "4 2017-01-09  28.900000  28.690001  28.690001  28.900000  556800.0  23.329052\n",
      "        Date       High        Low       Open      Close     Volume  Adj Close\n",
      "0 2017-01-03  29.590000  29.330000  29.450001  29.570000  1246500.0  26.203518\n",
      "1 2017-01-04  29.870001  29.580000  29.590000  29.860001   689600.0  26.460503\n",
      "2 2017-01-05  30.260000  30.000000  30.030001  30.219999   644100.0  26.779516\n",
      "3 2017-01-06  30.230000  30.059999  30.080000  30.160000   550900.0  26.726349\n",
      "4 2017-01-09  30.230000  30.059999  30.120001  30.209999   533000.0  26.770653\n",
      "        Date       High        Low       Open      Close    Volume  Adj Close\n",
      "0 2017-01-03  20.129999  20.030001  20.070000  20.129999  824400.0  16.116690\n",
      "1 2017-01-04  20.469999  20.360001  20.370001  20.450001  735000.0  16.372894\n",
      "2 2017-01-05  20.900000  20.740000  20.770000  20.840000  952600.0  16.685139\n",
      "3 2017-01-06  20.750000  20.700001  20.719999  20.709999  446400.0  16.581059\n",
      "4 2017-01-09  20.900000  20.770000  20.770000  20.870001  435300.0  16.709162\n",
      "        Date       High        Low       Open      Close     Volume  Adj Close\n",
      "0 2017-01-03  54.040001  53.799999  53.959999  54.029999  3059900.0  49.223480\n",
      "1 2017-01-04  54.509998  54.250000  54.279999  54.400002  2253100.0  49.560566\n",
      "2 2017-01-05  55.070000  54.660000  54.730000  54.939999  2837600.0  50.052528\n",
      "3 2017-01-06  54.560001  54.330002  54.560001  54.340000  1696000.0  49.505901\n",
      "4 2017-01-09  54.360001  54.049999  54.049999  54.240002  1467500.0  49.414799\n",
      "        Date   High        Low       Open      Close    Volume  Adj Close\n",
      "0 2017-01-03  24.18  24.049999  24.110001  24.160000  215500.0  21.881622\n",
      "1 2017-01-04  24.32  24.180000  24.180000  24.320000  128100.0  22.026531\n",
      "2 2017-01-05  24.48  24.360001  24.370001  24.469999  164500.0  22.162388\n",
      "3 2017-01-06  24.42  24.340000  24.340000  24.360001  125800.0  22.062761\n",
      "4 2017-01-09  24.40  24.270000  24.299999  24.379999  197000.0  22.080873\n",
      "        Date       High        Low       Open      Close   Volume  Adj Close\n",
      "0 2017-01-03  22.049999  21.870001  21.910000  21.959999  70700.0  18.734846\n",
      "1 2017-01-04  22.200001  22.080000  22.100000  22.200001  19100.0  18.939600\n",
      "2 2017-01-05  22.520000  22.340000  22.430000  22.500000   7700.0  19.195539\n",
      "3 2017-01-06  22.500000  22.400000  22.480000  22.450001  17400.0  19.152884\n",
      "4 2017-01-09  22.280001  22.110001  22.280001  22.160000   6900.0  18.905470\n",
      "        Date       High        Low       Open      Close   Volume  Adj Close\n",
      "0 2017-01-03  33.060001  32.860001  32.959999  33.040001  19100.0  26.231174\n",
      "1 2017-01-04  33.299999  33.070000  33.090000  33.299999  43500.0  26.437592\n",
      "2 2017-01-05  33.580002  33.220001  33.240002  33.570000  36100.0  26.651949\n",
      "3 2017-01-06  33.529999  33.410000  33.410000  33.439999  15100.0  26.548737\n",
      "4 2017-01-09  33.299999  33.119999  33.189999  33.169998  44600.0  26.334381\n",
      "        Date    High        Low       Open      Close   Volume  Adj Close\n",
      "0 2017-01-03  17.150  16.879999  16.879999  17.049999  17600.0  13.348772\n",
      "1 2017-01-04  17.122  16.850000  17.100000  16.850000  25000.0  13.192189\n",
      "2 2017-01-05  17.240  16.780001  16.780001  17.180000   2300.0  13.450554\n",
      "3 2017-01-06  17.157  16.740000  16.740000  17.011000   1200.0  13.318238\n",
      "4 2017-01-09  17.420  17.110001  17.290001  17.350000   3000.0  13.583648\n",
      "        Date       High        Low   Open      Close     Volume  Adj Close\n",
      "0 2017-01-03  19.870001  19.740000  19.82  19.799999  2407500.0  16.753654\n",
      "1 2017-01-04  19.940001  19.830000  19.83  19.930000  5990200.0  16.863655\n",
      "2 2017-01-05  20.379999  20.100000  20.10  20.299999  8705500.0  17.176727\n",
      "3 2017-01-06  20.270000  20.170000  20.23  20.219999  2114100.0  17.109034\n",
      "4 2017-01-09  20.360001  20.299999  20.33  20.309999  1300900.0  17.185188\n",
      "   index       Date  Adj Close\n",
      "0      0 2017-01-02      63.36\n",
      "1      1 2017-01-03      63.23\n",
      "2      2 2017-01-04      63.58\n",
      "3      3 2017-01-05      65.12\n",
      "4      4 2017-01-06      64.53\n",
      "   index        Date  Adj Close\n",
      "0      0  2017-01-01      66.91\n",
      "1      1  2017-01-02      67.02\n",
      "2      2  2017-01-03      67.35\n",
      "3      3  2017-01-04      67.78\n",
      "4      4  2017-01-05      68.09\n",
      "        Date       High        Low   Open      Close     Volume  Adj Close\n",
      "0 2017-01-03  44.459999  44.090000  44.18  44.189999  1333800.0  41.094116\n",
      "1 2017-01-04  44.939999  44.340000  44.34  44.770000  1085900.0  41.633480\n",
      "2 2017-01-05  45.720001  45.180000  45.18  45.610001  3145800.0  42.414635\n",
      "3 2017-01-06  45.500000  45.160000  45.50  45.340000  1371300.0  42.163555\n",
      "4 2017-01-09  45.669998  45.400002  45.50  45.509998   909800.0  42.321640\n",
      "        Date       High        Low   Open      Close     Volume  Adj Close\n",
      "0 2017-01-03  29.879999  29.620001  29.68  29.740000  3964700.0  26.117418\n",
      "1 2017-01-04  29.930000  29.750000  29.85  29.799999  4464600.0  26.170111\n",
      "2 2017-01-05  30.379999  30.209999  30.24  30.350000  3987400.0  26.653118\n",
      "3 2017-01-06  30.350000  30.170000  30.24  30.270000  2503100.0  26.582859\n",
      "4 2017-01-09  30.330000  30.129999  30.15  30.280001  4078800.0  26.591642\n"
     ]
    }
   ],
   "source": [
    "score_list=[]\n",
    "\n",
    "for df in countries:\n",
    "    print(df.head())\n",
    "    score_list.append(float(get_exp_coeff(df['Date'],df['Adj Close'])))"
   ]
  },
  {
   "cell_type": "code",
   "execution_count": 194,
   "metadata": {},
   "outputs": [
    {
     "data": {
      "text/plain": [
       "[0.00014205799395738887,\n",
       " 0.0002961121990402554,\n",
       " 0.0005783065333757803,\n",
       " 0.00023984983793638425,\n",
       " 0.0002687813307043882,\n",
       " 0.0004047556804180764,\n",
       " 0.00043418010140940653,\n",
       " 3.7060074028491556e-05,\n",
       " 0.00023669659184268892,\n",
       " 0.0005215128544386768,\n",
       " 0.00014937284176239407,\n",
       " 0.00031921827814809035,\n",
       " -0.00010518824563186361,\n",
       " 0.0001521091552969908,\n",
       " -0.00018108591224404202,\n",
       " 0.00039493311131043985,\n",
       " 0.0003196918541177501,\n",
       " 0.000617998560351402]"
      ]
     },
     "execution_count": 194,
     "metadata": {},
     "output_type": "execute_result"
    }
   ],
   "source": [
    "score_list"
   ]
  },
  {
   "cell_type": "code",
   "execution_count": 195,
   "metadata": {},
   "outputs": [
    {
     "data": {
      "text/html": [
       "<div>\n",
       "<style scoped>\n",
       "    .dataframe tbody tr th:only-of-type {\n",
       "        vertical-align: middle;\n",
       "    }\n",
       "\n",
       "    .dataframe tbody tr th {\n",
       "        vertical-align: top;\n",
       "    }\n",
       "\n",
       "    .dataframe thead th {\n",
       "        text-align: right;\n",
       "    }\n",
       "</style>\n",
       "<table border=\"1\" class=\"dataframe\">\n",
       "  <thead>\n",
       "    <tr style=\"text-align: right;\">\n",
       "      <th></th>\n",
       "      <th>Country</th>\n",
       "      <th>counts</th>\n",
       "    </tr>\n",
       "  </thead>\n",
       "  <tbody>\n",
       "    <tr>\n",
       "      <th>0</th>\n",
       "      <td>Germany</td>\n",
       "      <td>36</td>\n",
       "    </tr>\n",
       "    <tr>\n",
       "      <th>1</th>\n",
       "      <td>Canada</td>\n",
       "      <td>31</td>\n",
       "    </tr>\n",
       "    <tr>\n",
       "      <th>2</th>\n",
       "      <td>United States</td>\n",
       "      <td>23</td>\n",
       "    </tr>\n",
       "    <tr>\n",
       "      <th>3</th>\n",
       "      <td>Australia</td>\n",
       "      <td>20</td>\n",
       "    </tr>\n",
       "    <tr>\n",
       "      <th>4</th>\n",
       "      <td>France</td>\n",
       "      <td>19</td>\n",
       "    </tr>\n",
       "    <tr>\n",
       "      <th>5</th>\n",
       "      <td>Sweden</td>\n",
       "      <td>19</td>\n",
       "    </tr>\n",
       "    <tr>\n",
       "      <th>6</th>\n",
       "      <td>Switzerland</td>\n",
       "      <td>18</td>\n",
       "    </tr>\n",
       "    <tr>\n",
       "      <th>7</th>\n",
       "      <td>Singapore</td>\n",
       "      <td>15</td>\n",
       "    </tr>\n",
       "    <tr>\n",
       "      <th>8</th>\n",
       "      <td>South Korea</td>\n",
       "      <td>15</td>\n",
       "    </tr>\n",
       "    <tr>\n",
       "      <th>9</th>\n",
       "      <td>Netherlands</td>\n",
       "      <td>14</td>\n",
       "    </tr>\n",
       "    <tr>\n",
       "      <th>10</th>\n",
       "      <td>Norway</td>\n",
       "      <td>9</td>\n",
       "    </tr>\n",
       "    <tr>\n",
       "      <th>11</th>\n",
       "      <td>Finland</td>\n",
       "      <td>8</td>\n",
       "    </tr>\n",
       "    <tr>\n",
       "      <th>12</th>\n",
       "      <td>UAE</td>\n",
       "      <td>5</td>\n",
       "    </tr>\n",
       "    <tr>\n",
       "      <th>13</th>\n",
       "      <td>Hong Kong</td>\n",
       "      <td>5</td>\n",
       "    </tr>\n",
       "    <tr>\n",
       "      <th>14</th>\n",
       "      <td>Luxembourg</td>\n",
       "      <td>4</td>\n",
       "    </tr>\n",
       "    <tr>\n",
       "      <th>15</th>\n",
       "      <td>Kuwait</td>\n",
       "      <td>3</td>\n",
       "    </tr>\n",
       "    <tr>\n",
       "      <th>16</th>\n",
       "      <td>China</td>\n",
       "      <td>2</td>\n",
       "    </tr>\n",
       "    <tr>\n",
       "      <th>17</th>\n",
       "      <td>Taiwan</td>\n",
       "      <td>2</td>\n",
       "    </tr>\n",
       "  </tbody>\n",
       "</table>\n",
       "</div>"
      ],
      "text/plain": [
       "          Country  counts\n",
       "0         Germany      36\n",
       "1          Canada      31\n",
       "2   United States      23\n",
       "3       Australia      20\n",
       "4          France      19\n",
       "5          Sweden      19\n",
       "6     Switzerland      18\n",
       "7       Singapore      15\n",
       "8     South Korea      15\n",
       "9     Netherlands      14\n",
       "10         Norway       9\n",
       "11        Finland       8\n",
       "12            UAE       5\n",
       "13      Hong Kong       5\n",
       "14     Luxembourg       4\n",
       "15         Kuwait       3\n",
       "16          China       2\n",
       "17         Taiwan       2"
      ]
     },
     "execution_count": 195,
     "metadata": {},
     "output_type": "execute_result"
    }
   ],
   "source": [
    "ranking_counts=ranking_counts.rename(columns={'Country':'counts'})\n",
    "ranking_counts=ranking_counts.rename_axis('Country').reset_index()\n",
    "ranking_counts"
   ]
  },
  {
   "cell_type": "code",
   "execution_count": 196,
   "metadata": {},
   "outputs": [
    {
     "data": {
      "text/html": [
       "<div>\n",
       "<style scoped>\n",
       "    .dataframe tbody tr th:only-of-type {\n",
       "        vertical-align: middle;\n",
       "    }\n",
       "\n",
       "    .dataframe tbody tr th {\n",
       "        vertical-align: top;\n",
       "    }\n",
       "\n",
       "    .dataframe thead th {\n",
       "        text-align: right;\n",
       "    }\n",
       "</style>\n",
       "<table border=\"1\" class=\"dataframe\">\n",
       "  <thead>\n",
       "    <tr style=\"text-align: right;\">\n",
       "      <th></th>\n",
       "      <th>Country</th>\n",
       "      <th>counts</th>\n",
       "      <th>Score</th>\n",
       "    </tr>\n",
       "  </thead>\n",
       "  <tbody>\n",
       "    <tr>\n",
       "      <th>0</th>\n",
       "      <td>Germany</td>\n",
       "      <td>36</td>\n",
       "      <td>0.000142</td>\n",
       "    </tr>\n",
       "    <tr>\n",
       "      <th>1</th>\n",
       "      <td>Canada</td>\n",
       "      <td>31</td>\n",
       "      <td>0.000296</td>\n",
       "    </tr>\n",
       "    <tr>\n",
       "      <th>2</th>\n",
       "      <td>United States</td>\n",
       "      <td>23</td>\n",
       "      <td>0.000578</td>\n",
       "    </tr>\n",
       "    <tr>\n",
       "      <th>3</th>\n",
       "      <td>Australia</td>\n",
       "      <td>20</td>\n",
       "      <td>0.000240</td>\n",
       "    </tr>\n",
       "    <tr>\n",
       "      <th>4</th>\n",
       "      <td>France</td>\n",
       "      <td>19</td>\n",
       "      <td>0.000269</td>\n",
       "    </tr>\n",
       "    <tr>\n",
       "      <th>5</th>\n",
       "      <td>Sweden</td>\n",
       "      <td>19</td>\n",
       "      <td>0.000405</td>\n",
       "    </tr>\n",
       "    <tr>\n",
       "      <th>6</th>\n",
       "      <td>Switzerland</td>\n",
       "      <td>18</td>\n",
       "      <td>0.000434</td>\n",
       "    </tr>\n",
       "    <tr>\n",
       "      <th>7</th>\n",
       "      <td>Singapore</td>\n",
       "      <td>15</td>\n",
       "      <td>0.000037</td>\n",
       "    </tr>\n",
       "    <tr>\n",
       "      <th>8</th>\n",
       "      <td>South Korea</td>\n",
       "      <td>15</td>\n",
       "      <td>0.000237</td>\n",
       "    </tr>\n",
       "    <tr>\n",
       "      <th>9</th>\n",
       "      <td>Netherlands</td>\n",
       "      <td>14</td>\n",
       "      <td>0.000522</td>\n",
       "    </tr>\n",
       "    <tr>\n",
       "      <th>10</th>\n",
       "      <td>Norway</td>\n",
       "      <td>9</td>\n",
       "      <td>0.000149</td>\n",
       "    </tr>\n",
       "    <tr>\n",
       "      <th>11</th>\n",
       "      <td>Finland</td>\n",
       "      <td>8</td>\n",
       "      <td>0.000319</td>\n",
       "    </tr>\n",
       "    <tr>\n",
       "      <th>12</th>\n",
       "      <td>UAE</td>\n",
       "      <td>5</td>\n",
       "      <td>-0.000105</td>\n",
       "    </tr>\n",
       "    <tr>\n",
       "      <th>13</th>\n",
       "      <td>Hong Kong</td>\n",
       "      <td>5</td>\n",
       "      <td>0.000152</td>\n",
       "    </tr>\n",
       "    <tr>\n",
       "      <th>14</th>\n",
       "      <td>Luxembourg</td>\n",
       "      <td>4</td>\n",
       "      <td>-0.000181</td>\n",
       "    </tr>\n",
       "    <tr>\n",
       "      <th>15</th>\n",
       "      <td>Kuwait</td>\n",
       "      <td>3</td>\n",
       "      <td>0.000395</td>\n",
       "    </tr>\n",
       "    <tr>\n",
       "      <th>16</th>\n",
       "      <td>China</td>\n",
       "      <td>2</td>\n",
       "      <td>0.000320</td>\n",
       "    </tr>\n",
       "    <tr>\n",
       "      <th>17</th>\n",
       "      <td>Taiwan</td>\n",
       "      <td>2</td>\n",
       "      <td>0.000618</td>\n",
       "    </tr>\n",
       "  </tbody>\n",
       "</table>\n",
       "</div>"
      ],
      "text/plain": [
       "          Country  counts     Score\n",
       "0         Germany      36  0.000142\n",
       "1          Canada      31  0.000296\n",
       "2   United States      23  0.000578\n",
       "3       Australia      20  0.000240\n",
       "4          France      19  0.000269\n",
       "5          Sweden      19  0.000405\n",
       "6     Switzerland      18  0.000434\n",
       "7       Singapore      15  0.000037\n",
       "8     South Korea      15  0.000237\n",
       "9     Netherlands      14  0.000522\n",
       "10         Norway       9  0.000149\n",
       "11        Finland       8  0.000319\n",
       "12            UAE       5 -0.000105\n",
       "13      Hong Kong       5  0.000152\n",
       "14     Luxembourg       4 -0.000181\n",
       "15         Kuwait       3  0.000395\n",
       "16          China       2  0.000320\n",
       "17         Taiwan       2  0.000618"
      ]
     },
     "execution_count": 196,
     "metadata": {},
     "output_type": "execute_result"
    }
   ],
   "source": [
    "bank_safety=pd.concat([ranking_counts,pd.Series(score_list,name='Score')],axis=1)\n",
    "bank_safety"
   ]
  },
  {
   "cell_type": "code",
   "execution_count": 210,
   "metadata": {},
   "outputs": [
    {
     "name": "stderr",
     "output_type": "stream",
     "text": [
      "c:\\Users\\Administrator\\AppData\\Local\\Programs\\Python\\Python39\\lib\\site-packages\\seaborn\\_decorators.py:36: FutureWarning: Pass the following variables as keyword args: x, y. From version 0.12, the only valid positional argument will be `data`, and passing other arguments without an explicit keyword will result in an error or misinterpretation.\n",
      "  warnings.warn(\n"
     ]
    },
    {
     "data": {
      "text/plain": [
       "(-0.0005, 0.001)"
      ]
     },
     "execution_count": 210,
     "metadata": {},
     "output_type": "execute_result"
    },
    {
     "data": {
      "image/png": "[encoded data removed]",
      "text/plain": [
       "<Figure size 432x288 with 1 Axes>"
      ]
     },
     "metadata": {},
     "output_type": "display_data"
    }
   ],
   "source": [
    "sns.regplot(bank_safety['counts'],bank_safety['Score'])\n",
    "plt.ylim([-.0005,.001])"
   ]
  },
  {
   "cell_type": "code",
   "execution_count": 211,
   "metadata": {},
   "outputs": [
    {
     "name": "stderr",
     "output_type": "stream",
     "text": [
      "c:\\Users\\Administrator\\AppData\\Local\\Programs\\Python\\Python39\\lib\\site-packages\\seaborn\\_decorators.py:36: FutureWarning: Pass the following variables as keyword args: x, y. From version 0.12, the only valid positional argument will be `data`, and passing other arguments without an explicit keyword will result in an error or misinterpretation.\n",
      "  warnings.warn(\n"
     ]
    },
    {
     "data": {
      "text/plain": [
       "Text(0.5, 1.0, 'log scaled X')"
      ]
     },
     "execution_count": 211,
     "metadata": {},
     "output_type": "execute_result"
    },
    {
     "data": {
      "image/png": "[encoded data removed]",
      "text/plain": [
       "<Figure size 432x288 with 1 Axes>"
      ]
     },
     "metadata": {},
     "output_type": "display_data"
    }
   ],
   "source": [
    "sns.regplot(np.log(bank_safety['counts']),bank_safety['Score'])\n",
    "plt.ylim([-.0005,.001])\n",
    "plt.title(\"log scaled X\")"
   ]
  },
  {
   "cell_type": "code",
   "execution_count": 206,
   "metadata": {},
   "outputs": [
    {
     "data": {
      "text/html": [
       "<div>\n",
       "<style scoped>\n",
       "    .dataframe tbody tr th:only-of-type {\n",
       "        vertical-align: middle;\n",
       "    }\n",
       "\n",
       "    .dataframe tbody tr th {\n",
       "        vertical-align: top;\n",
       "    }\n",
       "\n",
       "    .dataframe thead th {\n",
       "        text-align: right;\n",
       "    }\n",
       "</style>\n",
       "<table border=\"1\" class=\"dataframe\">\n",
       "  <thead>\n",
       "    <tr style=\"text-align: right;\">\n",
       "      <th></th>\n",
       "      <th>Country</th>\n",
       "      <th>counts</th>\n",
       "      <th>Score</th>\n",
       "    </tr>\n",
       "  </thead>\n",
       "  <tbody>\n",
       "    <tr>\n",
       "      <th>0</th>\n",
       "      <td>Germany</td>\n",
       "      <td>36</td>\n",
       "      <td>0.000142</td>\n",
       "    </tr>\n",
       "    <tr>\n",
       "      <th>1</th>\n",
       "      <td>Canada</td>\n",
       "      <td>31</td>\n",
       "      <td>0.000296</td>\n",
       "    </tr>\n",
       "    <tr>\n",
       "      <th>2</th>\n",
       "      <td>United States</td>\n",
       "      <td>23</td>\n",
       "      <td>0.000578</td>\n",
       "    </tr>\n",
       "    <tr>\n",
       "      <th>3</th>\n",
       "      <td>Australia</td>\n",
       "      <td>20</td>\n",
       "      <td>0.000240</td>\n",
       "    </tr>\n",
       "    <tr>\n",
       "      <th>4</th>\n",
       "      <td>France</td>\n",
       "      <td>19</td>\n",
       "      <td>0.000269</td>\n",
       "    </tr>\n",
       "    <tr>\n",
       "      <th>5</th>\n",
       "      <td>Sweden</td>\n",
       "      <td>19</td>\n",
       "      <td>0.000405</td>\n",
       "    </tr>\n",
       "    <tr>\n",
       "      <th>6</th>\n",
       "      <td>Switzerland</td>\n",
       "      <td>18</td>\n",
       "      <td>0.000434</td>\n",
       "    </tr>\n",
       "    <tr>\n",
       "      <th>7</th>\n",
       "      <td>Singapore</td>\n",
       "      <td>15</td>\n",
       "      <td>0.000037</td>\n",
       "    </tr>\n",
       "    <tr>\n",
       "      <th>8</th>\n",
       "      <td>South Korea</td>\n",
       "      <td>15</td>\n",
       "      <td>0.000237</td>\n",
       "    </tr>\n",
       "    <tr>\n",
       "      <th>9</th>\n",
       "      <td>Netherlands</td>\n",
       "      <td>14</td>\n",
       "      <td>0.000522</td>\n",
       "    </tr>\n",
       "    <tr>\n",
       "      <th>10</th>\n",
       "      <td>Norway</td>\n",
       "      <td>9</td>\n",
       "      <td>0.000149</td>\n",
       "    </tr>\n",
       "    <tr>\n",
       "      <th>11</th>\n",
       "      <td>Finland</td>\n",
       "      <td>8</td>\n",
       "      <td>0.000319</td>\n",
       "    </tr>\n",
       "    <tr>\n",
       "      <th>12</th>\n",
       "      <td>UAE</td>\n",
       "      <td>5</td>\n",
       "      <td>-0.000105</td>\n",
       "    </tr>\n",
       "    <tr>\n",
       "      <th>13</th>\n",
       "      <td>Hong Kong</td>\n",
       "      <td>5</td>\n",
       "      <td>0.000152</td>\n",
       "    </tr>\n",
       "    <tr>\n",
       "      <th>14</th>\n",
       "      <td>Luxembourg</td>\n",
       "      <td>4</td>\n",
       "      <td>-0.000181</td>\n",
       "    </tr>\n",
       "  </tbody>\n",
       "</table>\n",
       "</div>"
      ],
      "text/plain": [
       "          Country  counts     Score\n",
       "0         Germany      36  0.000142\n",
       "1          Canada      31  0.000296\n",
       "2   United States      23  0.000578\n",
       "3       Australia      20  0.000240\n",
       "4          France      19  0.000269\n",
       "5          Sweden      19  0.000405\n",
       "6     Switzerland      18  0.000434\n",
       "7       Singapore      15  0.000037\n",
       "8     South Korea      15  0.000237\n",
       "9     Netherlands      14  0.000522\n",
       "10         Norway       9  0.000149\n",
       "11        Finland       8  0.000319\n",
       "12            UAE       5 -0.000105\n",
       "13      Hong Kong       5  0.000152\n",
       "14     Luxembourg       4 -0.000181"
      ]
     },
     "execution_count": 206,
     "metadata": {},
     "output_type": "execute_result"
    }
   ],
   "source": [
    "less_outliers_df=bank_safety[:-3]\n",
    "less_outliers_df"
   ]
  },
  {
   "cell_type": "code",
   "execution_count": 212,
   "metadata": {},
   "outputs": [
    {
     "name": "stderr",
     "output_type": "stream",
     "text": [
      "c:\\Users\\Administrator\\AppData\\Local\\Programs\\Python\\Python39\\lib\\site-packages\\seaborn\\_decorators.py:36: FutureWarning: Pass the following variables as keyword args: x, y. From version 0.12, the only valid positional argument will be `data`, and passing other arguments without an explicit keyword will result in an error or misinterpretation.\n",
      "  warnings.warn(\n"
     ]
    },
    {
     "data": {
      "text/plain": [
       "Text(0.5, 1.0, 'less outliers')"
      ]
     },
     "execution_count": 212,
     "metadata": {},
     "output_type": "execute_result"
    },
    {
     "data": {
      "image/png": "[encoded data removed]",
      "text/plain": [
       "<Figure size 432x288 with 1 Axes>"
      ]
     },
     "metadata": {},
     "output_type": "display_data"
    }
   ],
   "source": [
    "sns.regplot(np.log(less_outliers_df['counts']),less_outliers_df['Score'])\n",
    "plt.ylim([-.0005,.001])\n",
    "plt.title(\"less outliers\")"
   ]
  },
  {
   "cell_type": "code",
   "execution_count": null,
   "metadata": {},
   "outputs": [],
   "source": [
    "# without outliers"
   ]
  },
  {
   "cell_type": "code",
   "execution_count": null,
   "metadata": {},
   "outputs": [],
   "source": [
    "bank_safety.to_csv('bank_safety.csv')"
   ]
  }
 ],
 "metadata": {
  "interpreter": {
   "hash": "6fff98fc3b3d81bd655c2cc48858186e4d9e2db7b515bf1c3221888f12a62f87"
  },
  "kernelspec": {
   "display_name": "Python 3.9.6 64-bit",
   "language": "python",
   "name": "python3"
  },
  "language_info": {
   "codemirror_mode": {
    "name": "ipython",
    "version": 3
   },
   "file_extension": ".py",
   "mimetype": "text/x-python",
   "name": "python",
   "nbconvert_exporter": "python",
   "pygments_lexer": "ipython3",
   "version": "3.9.6"
  },
  "orig_nbformat": 4
 },
 "nbformat": 4,
 "nbformat_minor": 2
}
